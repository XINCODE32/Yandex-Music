{
 "cells": [
  {
   "cell_type": "markdown",
   "metadata": {
    "id": "E0vqbgi9ay0H"
   },
   "source": [
    "# Yandex.Music"
   ]
  },
  {
   "cell_type": "markdown",
   "metadata": {
    "id": "fhq_eyov_Zcs"
   },
   "source": [
    "# Contents <a id='back'></a>\n",
    "\n",
    "* [Introduction](#intro)\n",
    "* [Stage 1. Data overview](#data_review)\n",
    "    * [Conclusions](#data_review_conclusions)\n",
    "* [Stage 2. Data preprocessing](#data_preprocessing)\n",
    "    * [2.1 Header style](#header_style)\n",
    "    * [2.2 Missing values](#missing_values)\n",
    "    * [2.3 Duplicates](#duplicates)\n",
    "    * [2.4 Conclusions](#data_preprocessing_conclusions)\n",
    "* [Stage 3. Testing the hypotheses](#hypotheses)\n",
    "    * [3.1 Hypothesis 1: user activity in the two cities](#activity)\n",
    "    * [3.2 Hypothesis 2: music preferences on Monday and Friday](#week)\n",
    "    * [3.3 Hypothesis 3: genre preferences in Springfield and Shelbyville](#genre)\n",
    "* [Findings](#end)"
   ]
  },
  {
   "cell_type": "markdown",
   "metadata": {
    "id": "VUC88oWjTJw2"
   },
   "source": [
    "## Introduction <a id='intro'></a>\n",
    "Whenever we're doing research, we need to formulate hypotheses that we can then test. Sometimes we accept these hypotheses; other times, we reject them. To make the right decisions, a business must be able to understand whether or not it's making the right assumptions.\n",
    "\n",
    "In this project, you'll compare the music preferences of the cities of Springfield and Shelbyville. You'll study real TripleTen.Music data to test the hypotheses below and compare user behavior for these two cities.\n",
    "\n",
    "### Goal: \n",
    "Test three hypotheses:\n",
    "1. User activity differs depending on the day of the week and from city to city. \n",
    "2. On Monday mornings, Springfield and Shelbyville residents listen to different genres. This is also true for Friday evenings. \n",
    "3. Springfield and Shelbyville listeners have different preferences. In Springfield, they prefer pop, while Shelbyville has more rap fans.\n",
    "\n",
    "### Stages \n",
    "Data on user behavior is stored in the file `/datasets/music_project_en.csv`. There is no information about the quality of the data, so you will need to explore it before testing the hypotheses. \n",
    "\n",
    "First, you'll evaluate the quality of the data and see whether its issues are significant. Then, during data preprocessing, you will try to account for the most critical problems.\n",
    " \n",
    "Your project will consist of three stages:\n",
    " 1. Data overview\n",
    " 2. Data preprocessing\n",
    " 3. Testing the hypotheses\n",
    " \n",
    "[Back to Contents](#back)"
   ]
  },
  {
   "cell_type": "markdown",
   "metadata": {
    "id": "Ml1hmfXC_Zcs"
   },
   "source": [
    "## Stage 1. Data overview <a id='data_review'></a>\n",
    "\n",
    "Open the data on TripleTen.Music and explore it."
   ]
  },
  {
   "cell_type": "markdown",
   "metadata": {
    "id": "57eAOGIz_Zcs"
   },
   "source": [
    "You'll need `pandas`, so import it."
   ]
  },
  {
   "cell_type": "code",
   "execution_count": 1,
   "metadata": {
    "id": "AXN7PHPN_Zcs"
   },
   "outputs": [],
   "source": [
    "# importing pandas\n",
    "import pandas as pd"
   ]
  },
  {
   "cell_type": "markdown",
   "metadata": {
    "id": "SG23P8tt_Zcs"
   },
   "source": [
    "Read the file `music_project_en.csv` from the `/datasets/` folder and save it in the `df` variable:"
   ]
  },
  {
   "cell_type": "code",
   "execution_count": 2,
   "metadata": {
    "id": "fFVu7vqh_Zct"
   },
   "outputs": [],
   "source": [
    "df = pd.read_csv('/datasets/music_project_en.csv')"
   ]
  },
  {
   "cell_type": "markdown",
   "metadata": {
    "id": "rDoOMd3uTqnZ"
   },
   "source": [
    "Print the first 10 table rows:"
   ]
  },
  {
   "cell_type": "code",
   "execution_count": 3,
   "metadata": {
    "id": "oWTVX3gW_Zct"
   },
   "outputs": [
    {
     "data": {
      "text/html": [
       "<div>\n",
       "<style scoped>\n",
       "    .dataframe tbody tr th:only-of-type {\n",
       "        vertical-align: middle;\n",
       "    }\n",
       "\n",
       "    .dataframe tbody tr th {\n",
       "        vertical-align: top;\n",
       "    }\n",
       "\n",
       "    .dataframe thead th {\n",
       "        text-align: right;\n",
       "    }\n",
       "</style>\n",
       "<table border=\"1\" class=\"dataframe\">\n",
       "  <thead>\n",
       "    <tr style=\"text-align: right;\">\n",
       "      <th></th>\n",
       "      <th>userID</th>\n",
       "      <th>Track</th>\n",
       "      <th>artist</th>\n",
       "      <th>genre</th>\n",
       "      <th>City</th>\n",
       "      <th>time</th>\n",
       "      <th>Day</th>\n",
       "    </tr>\n",
       "  </thead>\n",
       "  <tbody>\n",
       "    <tr>\n",
       "      <th>0</th>\n",
       "      <td>FFB692EC</td>\n",
       "      <td>Kamigata To Boots</td>\n",
       "      <td>The Mass Missile</td>\n",
       "      <td>rock</td>\n",
       "      <td>Shelbyville</td>\n",
       "      <td>20:28:33</td>\n",
       "      <td>Wednesday</td>\n",
       "    </tr>\n",
       "    <tr>\n",
       "      <th>1</th>\n",
       "      <td>55204538</td>\n",
       "      <td>Delayed Because of Accident</td>\n",
       "      <td>Andreas Rönnberg</td>\n",
       "      <td>rock</td>\n",
       "      <td>Springfield</td>\n",
       "      <td>14:07:09</td>\n",
       "      <td>Friday</td>\n",
       "    </tr>\n",
       "    <tr>\n",
       "      <th>2</th>\n",
       "      <td>20EC38</td>\n",
       "      <td>Funiculì funiculà</td>\n",
       "      <td>Mario Lanza</td>\n",
       "      <td>pop</td>\n",
       "      <td>Shelbyville</td>\n",
       "      <td>20:58:07</td>\n",
       "      <td>Wednesday</td>\n",
       "    </tr>\n",
       "    <tr>\n",
       "      <th>3</th>\n",
       "      <td>A3DD03C9</td>\n",
       "      <td>Dragons in the Sunset</td>\n",
       "      <td>Fire + Ice</td>\n",
       "      <td>folk</td>\n",
       "      <td>Shelbyville</td>\n",
       "      <td>08:37:09</td>\n",
       "      <td>Monday</td>\n",
       "    </tr>\n",
       "    <tr>\n",
       "      <th>4</th>\n",
       "      <td>E2DC1FAE</td>\n",
       "      <td>Soul People</td>\n",
       "      <td>Space Echo</td>\n",
       "      <td>dance</td>\n",
       "      <td>Springfield</td>\n",
       "      <td>08:34:34</td>\n",
       "      <td>Monday</td>\n",
       "    </tr>\n",
       "    <tr>\n",
       "      <th>5</th>\n",
       "      <td>842029A1</td>\n",
       "      <td>Chains</td>\n",
       "      <td>Obladaet</td>\n",
       "      <td>rusrap</td>\n",
       "      <td>Shelbyville</td>\n",
       "      <td>13:09:41</td>\n",
       "      <td>Friday</td>\n",
       "    </tr>\n",
       "    <tr>\n",
       "      <th>6</th>\n",
       "      <td>4CB90AA5</td>\n",
       "      <td>True</td>\n",
       "      <td>Roman Messer</td>\n",
       "      <td>dance</td>\n",
       "      <td>Springfield</td>\n",
       "      <td>13:00:07</td>\n",
       "      <td>Wednesday</td>\n",
       "    </tr>\n",
       "    <tr>\n",
       "      <th>7</th>\n",
       "      <td>F03E1C1F</td>\n",
       "      <td>Feeling This Way</td>\n",
       "      <td>Polina Griffith</td>\n",
       "      <td>dance</td>\n",
       "      <td>Springfield</td>\n",
       "      <td>20:47:49</td>\n",
       "      <td>Wednesday</td>\n",
       "    </tr>\n",
       "    <tr>\n",
       "      <th>8</th>\n",
       "      <td>8FA1D3BE</td>\n",
       "      <td>L’estate</td>\n",
       "      <td>Julia Dalia</td>\n",
       "      <td>ruspop</td>\n",
       "      <td>Springfield</td>\n",
       "      <td>09:17:40</td>\n",
       "      <td>Friday</td>\n",
       "    </tr>\n",
       "    <tr>\n",
       "      <th>9</th>\n",
       "      <td>E772D5C0</td>\n",
       "      <td>Pessimist</td>\n",
       "      <td>NaN</td>\n",
       "      <td>dance</td>\n",
       "      <td>Shelbyville</td>\n",
       "      <td>21:20:49</td>\n",
       "      <td>Wednesday</td>\n",
       "    </tr>\n",
       "  </tbody>\n",
       "</table>\n",
       "</div>"
      ],
      "text/plain": [
       "     userID                        Track            artist   genre  \\\n",
       "0  FFB692EC            Kamigata To Boots  The Mass Missile    rock   \n",
       "1  55204538  Delayed Because of Accident  Andreas Rönnberg    rock   \n",
       "2    20EC38            Funiculì funiculà       Mario Lanza     pop   \n",
       "3  A3DD03C9        Dragons in the Sunset        Fire + Ice    folk   \n",
       "4  E2DC1FAE                  Soul People        Space Echo   dance   \n",
       "5  842029A1                       Chains          Obladaet  rusrap   \n",
       "6  4CB90AA5                         True      Roman Messer   dance   \n",
       "7  F03E1C1F             Feeling This Way   Polina Griffith   dance   \n",
       "8  8FA1D3BE                     L’estate       Julia Dalia  ruspop   \n",
       "9  E772D5C0                    Pessimist               NaN   dance   \n",
       "\n",
       "        City        time        Day  \n",
       "0  Shelbyville  20:28:33  Wednesday  \n",
       "1  Springfield  14:07:09     Friday  \n",
       "2  Shelbyville  20:58:07  Wednesday  \n",
       "3  Shelbyville  08:37:09     Monday  \n",
       "4  Springfield  08:34:34     Monday  \n",
       "5  Shelbyville  13:09:41     Friday  \n",
       "6  Springfield  13:00:07  Wednesday  \n",
       "7  Springfield  20:47:49  Wednesday  \n",
       "8  Springfield  09:17:40     Friday  \n",
       "9  Shelbyville  21:20:49  Wednesday  "
      ]
     },
     "execution_count": 3,
     "metadata": {},
     "output_type": "execute_result"
    }
   ],
   "source": [
    "# obtaining the first 10 rows from the df table\n",
    "df.head(10)"
   ]
  },
  {
   "cell_type": "markdown",
   "metadata": {
    "id": "EO73Kwic_Zct"
   },
   "source": [
    "Obtaining the general information about the table with one command:"
   ]
  },
  {
   "cell_type": "code",
   "execution_count": 4,
   "metadata": {
    "id": "DSf2kIb-_Zct"
   },
   "outputs": [
    {
     "name": "stdout",
     "output_type": "stream",
     "text": [
      "<class 'pandas.core.frame.DataFrame'>\n",
      "RangeIndex: 65079 entries, 0 to 65078\n",
      "Data columns (total 7 columns):\n",
      " #   Column    Non-Null Count  Dtype \n",
      "---  ------    --------------  ----- \n",
      " 0     userID  65079 non-null  object\n",
      " 1   Track     63736 non-null  object\n",
      " 2   artist    57512 non-null  object\n",
      " 3   genre     63881 non-null  object\n",
      " 4     City    65079 non-null  object\n",
      " 5   time      65079 non-null  object\n",
      " 6   Day       65079 non-null  object\n",
      "dtypes: object(7)\n",
      "memory usage: 3.5+ MB\n"
     ]
    }
   ],
   "source": [
    "# obtaining general information about the data in df\n",
    "df.info()"
   ]
  },
  {
   "cell_type": "markdown",
   "metadata": {
    "id": "TaQ2Iwbr_Zct"
   },
   "source": [
    "The table contains seven columns. They all store the same data type: `object`.\n",
    "\n",
    "According to the documentation:\n",
    "- `'userID'` — user identifier\n",
    "- `'Track'` — track title\n",
    "- `'artist'` — artist's name\n",
    "- `'genre'`\n",
    "- `'City'` — user's city\n",
    "- `'time'` — the exact time the track was played\n",
    "- `'Day'` — day of the week\n",
    "\n",
    "We can see three issues with style in the column names:\n",
    "1. Some names are uppercase, some are lowercase.\n",
    "2. There are spaces in some names.\n",
    "3. `Detect the third issue yourself and describe it here`- **We'd prefer to use snake_casa on column 'userID'**.\n",
    "\n",
    "\n",
    "The number of column values is different. This means the data contains missing values.\n"
   ]
  },
  {
   "cell_type": "markdown",
   "metadata": {
    "id": "MCB6-dXG_Zct"
   },
   "source": [
    "### Conclusions <a id='data_review_conclusions'></a> \n",
    "\n",
    "Each row in the table stores data on a track that was played. Some columns describe the track itself: its title, artist and genre. The rest convey information about the user: the city they come from, the time they played the track. \n",
    "\n",
    "It's clear that the data is sufficient to test the hypotheses. However, there are missing values.\n",
    "\n",
    "To move forward, we need to preprocess the data."
   ]
  },
  {
   "cell_type": "markdown",
   "metadata": {
    "id": "3eL__vcwViOi"
   },
   "source": [
    "[Back to Contents](#back)"
   ]
  },
  {
   "cell_type": "markdown",
   "metadata": {
    "id": "SjYF6Ub9_Zct"
   },
   "source": [
    "## Stage 2. Data preprocessing <a id='data_preprocessing'></a>\n",
    "Correct the formatting in the column headers and deal with the missing values. Then, check whether there are duplicates in the data."
   ]
  },
  {
   "cell_type": "markdown",
   "metadata": {
    "id": "dIaKXr29_Zct"
   },
   "source": [
    "### Header style <a id='header_style'></a>\n",
    "Print the column header:"
   ]
  },
  {
   "cell_type": "code",
   "execution_count": 5,
   "metadata": {
    "id": "oKOTdF_Q_Zct"
   },
   "outputs": [
    {
     "data": {
      "text/plain": [
       "Index(['  userID', 'Track', 'artist', 'genre', '  City  ', 'time', 'Day'], dtype='object')"
      ]
     },
     "execution_count": 5,
     "metadata": {},
     "output_type": "execute_result"
    }
   ],
   "source": [
    "# the list of column names in the df table\n",
    "df.columns"
   ]
  },
  {
   "cell_type": "markdown",
   "metadata": {
    "id": "zj5534cv_Zct"
   },
   "source": [
    "Change column names according to the rules of good style:\n",
    "* If the name has several words, use snake_case\n",
    "* All characters must be lowercase\n",
    "* Delete spaces"
   ]
  },
  {
   "cell_type": "code",
   "execution_count": 6,
   "metadata": {
    "id": "ISlFqs5y_Zct"
   },
   "outputs": [],
   "source": [
    "# renaming columns\n",
    "df = df.rename(columns={\n",
    "    '  userID': 'user_id',\n",
    "    'Track': 'track',\n",
    "    '  City  ': 'city',\n",
    "    'Day': 'day',\n",
    "})\n"
   ]
  },
  {
   "cell_type": "markdown",
   "metadata": {
    "id": "1dqbh00J_Zct"
   },
   "source": [
    "Check the result. Print the names of the columns once more:"
   ]
  },
  {
   "cell_type": "code",
   "execution_count": 7,
   "metadata": {
    "id": "d4NOAmTW_Zct"
   },
   "outputs": [
    {
     "data": {
      "text/plain": [
       "Index(['user_id', 'track', 'artist', 'genre', 'city', 'time', 'day'], dtype='object')"
      ]
     },
     "execution_count": 7,
     "metadata": {},
     "output_type": "execute_result"
    }
   ],
   "source": [
    "# checking result: the list of column names\n",
    "df.columns"
   ]
  },
  {
   "cell_type": "markdown",
   "metadata": {
    "id": "xYJk6ksJVpOl"
   },
   "source": [
    "[Back to Contents](#back)"
   ]
  },
  {
   "cell_type": "markdown",
   "metadata": {
    "id": "5ISfbcfY_Zct"
   },
   "source": [
    "### Missing values <a id='missing_values'></a>\n",
    "First, find the number of missing values in the table. To do so, use two `pandas` methods:"
   ]
  },
  {
   "cell_type": "code",
   "execution_count": 8,
   "metadata": {
    "id": "RskX29qr_Zct"
   },
   "outputs": [
    {
     "data": {
      "text/plain": [
       "user_id       0\n",
       "track      1343\n",
       "artist     7567\n",
       "genre      1198\n",
       "city          0\n",
       "time          0\n",
       "day           0\n",
       "dtype: int64"
      ]
     },
     "execution_count": 8,
     "metadata": {},
     "output_type": "execute_result"
    }
   ],
   "source": [
    "# calculating missing values\n",
    "df.isna().sum()"
   ]
  },
  {
   "cell_type": "markdown",
   "metadata": {
    "id": "qubhgnlO_Zct"
   },
   "source": [
    "Not all missing values affect the research. For instance, the missing values in `track` and `artist` are not critical. You can simply replace them with clear markers.\n",
    "\n",
    "But missing values in `'genre'` can affect the comparison of music preferences in Springfield and Shelbyville. In real life, it would be useful to learn the reasons why the data is missing and try to make up for them. But we do not have that opportunity in this project. So you will have to:\n",
    "* Fill in these missing values with markers\n",
    "* Evaluate how much the missing values may affect your computations"
   ]
  },
  {
   "cell_type": "markdown",
   "metadata": {
    "id": "fSv2laPA_Zct"
   },
   "source": [
    "Replace the missing values in `'track'`, `'artist'`, and `'genre'` with the string `'unknown'`. To do this, create the `columns_to_replace` list, loop over it with `for`, and replace the missing values in each of the columns:"
   ]
  },
  {
   "cell_type": "code",
   "execution_count": 9,
   "metadata": {
    "id": "KplB5qWs_Zct"
   },
   "outputs": [],
   "source": [
    "# looping over column names and replacing missing values with 'unknown'\n",
    "columns_to_replace = ['track', 'artist', 'genre']\n",
    "\n",
    "for column in columns_to_replace:\n",
    "    df[column] = df[column].fillna('unknown')\n",
    "            "
   ]
  },
  {
   "cell_type": "markdown",
   "metadata": {
    "id": "Ilsm-MZo_Zct"
   },
   "source": [
    "Make sure the table contains no more missing values. Count the missing values again."
   ]
  },
  {
   "cell_type": "code",
   "execution_count": 10,
   "metadata": {
    "id": "Tq4nYRX4_Zct"
   },
   "outputs": [
    {
     "data": {
      "text/plain": [
       "user_id    0\n",
       "track      0\n",
       "artist     0\n",
       "genre      0\n",
       "city       0\n",
       "time       0\n",
       "day        0\n",
       "dtype: int64"
      ]
     },
     "execution_count": 10,
     "metadata": {},
     "output_type": "execute_result"
    }
   ],
   "source": [
    "# counting missing values\n",
    "df.isna().sum()"
   ]
  },
  {
   "cell_type": "markdown",
   "metadata": {
    "id": "74ZIBmq9VrsK"
   },
   "source": [
    "[Back to Contents](#back)"
   ]
  },
  {
   "cell_type": "markdown",
   "metadata": {
    "id": "BWKRtBJ3_Zct"
   },
   "source": [
    "### Duplicates <a id='duplicates'></a>\n",
    "Find the number of obvious duplicates in the table using one command:"
   ]
  },
  {
   "cell_type": "code",
   "execution_count": 11,
   "metadata": {
    "id": "36eES_S0_Zct"
   },
   "outputs": [
    {
     "data": {
      "text/plain": [
       "3826"
      ]
     },
     "execution_count": 11,
     "metadata": {},
     "output_type": "execute_result"
    }
   ],
   "source": [
    "# counting clear duplicates\n",
    "df.duplicated().sum()"
   ]
  },
  {
   "cell_type": "markdown",
   "metadata": {
    "id": "Ot25h6XR_Zct"
   },
   "source": [
    "Call the `pandas` method for getting rid of obvious duplicates:"
   ]
  },
  {
   "cell_type": "code",
   "execution_count": 12,
   "metadata": {
    "id": "exFHq6tt_Zct"
   },
   "outputs": [],
   "source": [
    "# removing obvious duplicates\n",
    "df = df.drop_duplicates()"
   ]
  },
  {
   "cell_type": "markdown",
   "metadata": {
    "id": "Im2YwBEG_Zct"
   },
   "source": [
    "Count obvious duplicates once more to make sure you have removed all of them:"
   ]
  },
  {
   "cell_type": "code",
   "execution_count": 13,
   "metadata": {
    "id": "-8PuNWQ0_Zct"
   },
   "outputs": [
    {
     "data": {
      "text/plain": [
       "0"
      ]
     },
     "execution_count": 13,
     "metadata": {},
     "output_type": "execute_result"
    }
   ],
   "source": [
    "# checking for duplicates\n",
    "df.duplicated().sum()"
   ]
  },
  {
   "cell_type": "markdown",
   "metadata": {
    "id": "QlFBsxAr_Zct"
   },
   "source": [
    "Now get rid of implicit duplicates in the `genre` column. For example, the name of a genre can be written in different ways. Such errors will also affect the result."
   ]
  },
  {
   "cell_type": "markdown",
   "metadata": {
    "id": "eSjWwsOh_Zct"
   },
   "source": [
    "Print a list of unique genre names, sorted in alphabetical order. To do so:\n",
    "* Retrieve the intended DataFrame column \n",
    "* Apply a sorting method to it\n",
    "* For the sorted column, call the method that will return all unique column values"
   ]
  },
  {
   "cell_type": "code",
   "execution_count": 14,
   "metadata": {
    "id": "JIUcqzZN_Zct"
   },
   "outputs": [
    {
     "data": {
      "text/plain": [
       "array(['acid', 'acoustic', 'action', 'adult', 'africa', 'afrikaans',\n",
       "       'alternative', 'ambient', 'americana', 'animated', 'anime',\n",
       "       'arabesk', 'arabic', 'arena', 'argentinetango', 'art', 'audiobook',\n",
       "       'avantgarde', 'axé', 'baile', 'balkan', 'beats', 'bigroom',\n",
       "       'black', 'bluegrass', 'blues', 'bollywood', 'bossa', 'brazilian',\n",
       "       'breakbeat', 'breaks', 'broadway', 'cantautori', 'cantopop',\n",
       "       'canzone', 'caribbean', 'caucasian', 'celtic', 'chamber',\n",
       "       'children', 'chill', 'chinese', 'choral', 'christian', 'christmas',\n",
       "       'classical', 'classicmetal', 'club', 'colombian', 'comedy',\n",
       "       'conjazz', 'contemporary', 'country', 'cuban', 'dance',\n",
       "       'dancehall', 'dancepop', 'dark', 'death', 'deep', 'deutschrock',\n",
       "       'deutschspr', 'dirty', 'disco', 'dnb', 'documentary', 'downbeat',\n",
       "       'downtempo', 'drum', 'dub', 'dubstep', 'eastern', 'easy',\n",
       "       'electronic', 'electropop', 'emo', 'entehno', 'epicmetal',\n",
       "       'estrada', 'ethnic', 'eurofolk', 'european', 'experimental',\n",
       "       'extrememetal', 'fado', 'film', 'fitness', 'flamenco', 'folk',\n",
       "       'folklore', 'folkmetal', 'folkrock', 'folktronica', 'forró',\n",
       "       'frankreich', 'französisch', 'french', 'funk', 'future', 'gangsta',\n",
       "       'garage', 'german', 'ghazal', 'gitarre', 'glitch', 'gospel',\n",
       "       'gothic', 'grime', 'grunge', 'gypsy', 'handsup', \"hard'n'heavy\",\n",
       "       'hardcore', 'hardstyle', 'hardtechno', 'hip', 'hip-hop', 'hiphop',\n",
       "       'historisch', 'holiday', 'hop', 'horror', 'house', 'idm',\n",
       "       'independent', 'indian', 'indie', 'indipop', 'industrial',\n",
       "       'inspirational', 'instrumental', 'international', 'irish', 'jam',\n",
       "       'japanese', 'jazz', 'jewish', 'jpop', 'jungle', 'k-pop',\n",
       "       'karadeniz', 'karaoke', 'kayokyoku', 'korean', 'laiko', 'latin',\n",
       "       'latino', 'leftfield', 'local', 'lounge', 'loungeelectronic',\n",
       "       'lovers', 'malaysian', 'mandopop', 'marschmusik', 'meditative',\n",
       "       'mediterranean', 'melodic', 'metal', 'metalcore', 'mexican',\n",
       "       'middle', 'minimal', 'miscellaneous', 'modern', 'mood', 'mpb',\n",
       "       'muslim', 'native', 'neoklassik', 'neue', 'new', 'newage',\n",
       "       'newwave', 'nu', 'nujazz', 'numetal', 'oceania', 'old', 'opera',\n",
       "       'orchestral', 'other', 'piano', 'pop', 'popelectronic',\n",
       "       'popeurodance', 'post', 'posthardcore', 'postrock', 'power',\n",
       "       'progmetal', 'progressive', 'psychedelic', 'punjabi', 'punk',\n",
       "       'quebecois', 'ragga', 'ram', 'rancheras', 'rap', 'rave', 'reggae',\n",
       "       'reggaeton', 'regional', 'relax', 'religious', 'retro', 'rhythm',\n",
       "       'rnb', 'rnr', 'rock', 'rockabilly', 'romance', 'roots', 'ruspop',\n",
       "       'rusrap', 'rusrock', 'salsa', 'samba', 'schlager', 'self',\n",
       "       'sertanejo', 'shoegazing', 'showtunes', 'singer', 'ska', 'slow',\n",
       "       'smooth', 'soul', 'soulful', 'sound', 'soundtrack', 'southern',\n",
       "       'specialty', 'speech', 'spiritual', 'sport', 'stonerrock', 'surf',\n",
       "       'swing', 'synthpop', 'sängerportrait', 'tango', 'tanzorchester',\n",
       "       'taraftar', 'tech', 'techno', 'thrash', 'top', 'traditional',\n",
       "       'tradjazz', 'trance', 'tribal', 'trip', 'triphop', 'tropical',\n",
       "       'türk', 'türkçe', 'unknown', 'urban', 'uzbek', 'variété', 'vi',\n",
       "       'videogame', 'vocal', 'western', 'world', 'worldbeat', 'ïîï'],\n",
       "      dtype=object)"
      ]
     },
     "execution_count": 14,
     "metadata": {},
     "output_type": "execute_result"
    }
   ],
   "source": [
    "# viewing unique genre names\n",
    "df['genre'].sort_values().unique()"
   ]
  },
  {
   "cell_type": "markdown",
   "metadata": {
    "id": "qej-Qmuo_Zct"
   },
   "source": [
    "Look through the list to find implicit duplicates of the genre `hiphop`. These could be names written incorrectly or alternative names of the same genre.\n",
    "\n",
    "You will see the following implicit duplicates:\n",
    "* `hip`\n",
    "* `hop`\n",
    "* `hip-hop`\n",
    "\n",
    "To get rid of them, declare the function `replace_wrong_genres()` with two parameters: \n",
    "* `wrong_genres=` — the list of duplicates\n",
    "* `correct_genre=` — the string with the correct value\n",
    "\n",
    "The function should correct the names in the `'genre'` column from the `df` table, i.e. replace each value from the `wrong_genres` list with the value in `correct_genre`."
   ]
  },
  {
   "cell_type": "code",
   "execution_count": 15,
   "metadata": {
    "id": "ErNDkmns_Zct"
   },
   "outputs": [],
   "source": [
    "# function for replacing implicit duplicates\n",
    "def replace_wrong_genres(wrong_genres, correct_genre):\n",
    "    for index in wrong_genres:\n",
    "        df['genre'] = df['genre'].replace(index, correct_genre)"
   ]
  },
  {
   "cell_type": "markdown",
   "metadata": {
    "id": "aDoBJxbA_Zct"
   },
   "source": [
    "Call `replace_wrong_genres()` and pass it arguments so that it clears implicit duplcates (`hip`, `hop`, and `hip-hop`) and replaces them with `hiphop`:"
   ]
  },
  {
   "cell_type": "code",
   "execution_count": 16,
   "metadata": {
    "id": "YN5i2hpmSo09"
   },
   "outputs": [],
   "source": [
    "# removing implicit duplicates\n",
    "replace_wrong_genres(['hip', 'hop', 'hip-hop'], 'hiphop')"
   ]
  },
  {
   "cell_type": "markdown",
   "metadata": {
    "id": "zQKF16_RG15m"
   },
   "source": [
    "Make sure the duplicate names were removed. Print the list of unique values from the `'genre'` column:"
   ]
  },
  {
   "cell_type": "code",
   "execution_count": 17,
   "metadata": {
    "id": "wvixALnFG15m"
   },
   "outputs": [
    {
     "data": {
      "text/plain": [
       "array(['acid', 'acoustic', 'action', 'adult', 'africa', 'afrikaans',\n",
       "       'alternative', 'ambient', 'americana', 'animated', 'anime',\n",
       "       'arabesk', 'arabic', 'arena', 'argentinetango', 'art', 'audiobook',\n",
       "       'avantgarde', 'axé', 'baile', 'balkan', 'beats', 'bigroom',\n",
       "       'black', 'bluegrass', 'blues', 'bollywood', 'bossa', 'brazilian',\n",
       "       'breakbeat', 'breaks', 'broadway', 'cantautori', 'cantopop',\n",
       "       'canzone', 'caribbean', 'caucasian', 'celtic', 'chamber',\n",
       "       'children', 'chill', 'chinese', 'choral', 'christian', 'christmas',\n",
       "       'classical', 'classicmetal', 'club', 'colombian', 'comedy',\n",
       "       'conjazz', 'contemporary', 'country', 'cuban', 'dance',\n",
       "       'dancehall', 'dancepop', 'dark', 'death', 'deep', 'deutschrock',\n",
       "       'deutschspr', 'dirty', 'disco', 'dnb', 'documentary', 'downbeat',\n",
       "       'downtempo', 'drum', 'dub', 'dubstep', 'eastern', 'easy',\n",
       "       'electronic', 'electropop', 'emo', 'entehno', 'epicmetal',\n",
       "       'estrada', 'ethnic', 'eurofolk', 'european', 'experimental',\n",
       "       'extrememetal', 'fado', 'film', 'fitness', 'flamenco', 'folk',\n",
       "       'folklore', 'folkmetal', 'folkrock', 'folktronica', 'forró',\n",
       "       'frankreich', 'französisch', 'french', 'funk', 'future', 'gangsta',\n",
       "       'garage', 'german', 'ghazal', 'gitarre', 'glitch', 'gospel',\n",
       "       'gothic', 'grime', 'grunge', 'gypsy', 'handsup', \"hard'n'heavy\",\n",
       "       'hardcore', 'hardstyle', 'hardtechno', 'hiphop', 'historisch',\n",
       "       'holiday', 'horror', 'house', 'idm', 'independent', 'indian',\n",
       "       'indie', 'indipop', 'industrial', 'inspirational', 'instrumental',\n",
       "       'international', 'irish', 'jam', 'japanese', 'jazz', 'jewish',\n",
       "       'jpop', 'jungle', 'k-pop', 'karadeniz', 'karaoke', 'kayokyoku',\n",
       "       'korean', 'laiko', 'latin', 'latino', 'leftfield', 'local',\n",
       "       'lounge', 'loungeelectronic', 'lovers', 'malaysian', 'mandopop',\n",
       "       'marschmusik', 'meditative', 'mediterranean', 'melodic', 'metal',\n",
       "       'metalcore', 'mexican', 'middle', 'minimal', 'miscellaneous',\n",
       "       'modern', 'mood', 'mpb', 'muslim', 'native', 'neoklassik', 'neue',\n",
       "       'new', 'newage', 'newwave', 'nu', 'nujazz', 'numetal', 'oceania',\n",
       "       'old', 'opera', 'orchestral', 'other', 'piano', 'pop',\n",
       "       'popelectronic', 'popeurodance', 'post', 'posthardcore',\n",
       "       'postrock', 'power', 'progmetal', 'progressive', 'psychedelic',\n",
       "       'punjabi', 'punk', 'quebecois', 'ragga', 'ram', 'rancheras', 'rap',\n",
       "       'rave', 'reggae', 'reggaeton', 'regional', 'relax', 'religious',\n",
       "       'retro', 'rhythm', 'rnb', 'rnr', 'rock', 'rockabilly', 'romance',\n",
       "       'roots', 'ruspop', 'rusrap', 'rusrock', 'salsa', 'samba',\n",
       "       'schlager', 'self', 'sertanejo', 'shoegazing', 'showtunes',\n",
       "       'singer', 'ska', 'slow', 'smooth', 'soul', 'soulful', 'sound',\n",
       "       'soundtrack', 'southern', 'specialty', 'speech', 'spiritual',\n",
       "       'sport', 'stonerrock', 'surf', 'swing', 'synthpop',\n",
       "       'sängerportrait', 'tango', 'tanzorchester', 'taraftar', 'tech',\n",
       "       'techno', 'thrash', 'top', 'traditional', 'tradjazz', 'trance',\n",
       "       'tribal', 'trip', 'triphop', 'tropical', 'türk', 'türkçe',\n",
       "       'unknown', 'urban', 'uzbek', 'variété', 'vi', 'videogame', 'vocal',\n",
       "       'western', 'world', 'worldbeat', 'ïîï'], dtype=object)"
      ]
     },
     "execution_count": 17,
     "metadata": {},
     "output_type": "execute_result"
    }
   ],
   "source": [
    "# checking for implicit duplicates\n",
    "df['genre'].sort_values().unique()"
   ]
  },
  {
   "cell_type": "markdown",
   "metadata": {
    "id": "ALgNbvF3VtPA"
   },
   "source": [
    "[Back to Contents](#back)"
   ]
  },
  {
   "cell_type": "markdown",
   "metadata": {
    "id": "jz6a9-7HQUDd"
   },
   "source": [
    "### Conclusions <a id='data_preprocessing_conclusions'></a>\n",
    "We detected three issues with the data:\n",
    "\n",
    "- Incorrect header styles\n",
    "- Missing values\n",
    "- Obvious and implicit duplicates\n",
    "\n",
    "The headers have been cleaned up to make processing the table simpler.\n",
    "\n",
    "All missing values have been replaced with `'unknown'`. But we still have to see whether the missing values in `'genre'` will affect our calculations.\n",
    "\n",
    "The absence of duplicates will make the results more precise and easier to understand.\n",
    "\n",
    "Now we can move on to testing hypotheses. "
   ]
  },
  {
   "cell_type": "markdown",
   "metadata": {
    "id": "eK1es74rVujj"
   },
   "source": [
    "[Back to Contents](#back)"
   ]
  },
  {
   "cell_type": "markdown",
   "metadata": {
    "id": "WttZHXH0SqKk"
   },
   "source": [
    "## Stage 3. Testing hypotheses <a id='hypotheses'></a>"
   ]
  },
  {
   "cell_type": "markdown",
   "metadata": {
    "id": "Im936VVi_Zcu"
   },
   "source": [
    "### Hypothesis 1: comparing user behavior in two cities <a id='activity'></a>"
   ]
  },
  {
   "cell_type": "markdown",
   "metadata": {
    "id": "nwt_MuaL_Zcu"
   },
   "source": [
    "According to the first hypothesis, users from Springfield and Shelbyville listen to music differently. Test this using the data on three days of the week: Monday, Wednesday, and Friday.\n",
    "\n",
    "* Divide the users into groups by city.\n",
    "* Compare how many tracks each group played on Monday, Wednesday, and Friday.\n"
   ]
  },
  {
   "cell_type": "markdown",
   "metadata": {
    "id": "8Dw_YMmT_Zcu"
   },
   "source": [
    "For the sake of practice, perform each computation separately. \n",
    "\n",
    "Evaluate user activity in each city. Group the data by city and find the number of songs played in each group.\n",
    "\n"
   ]
  },
  {
   "cell_type": "code",
   "execution_count": 18,
   "metadata": {
    "id": "0_Qs96oh_Zcu"
   },
   "outputs": [
    {
     "data": {
      "text/plain": [
       "city\n",
       "Shelbyville    18512\n",
       "Springfield    42741\n",
       "Name: track, dtype: int64"
      ]
     },
     "execution_count": 18,
     "metadata": {},
     "output_type": "execute_result"
    }
   ],
   "source": [
    "# Counting up the tracks played in each city\n",
    "df_track_count = df.groupby('city')['track'].count()\n",
    "\n",
    "df_track_count"
   ]
  },
  {
   "cell_type": "markdown",
   "metadata": {
    "id": "dzli3w8o_Zcu"
   },
   "source": [
    "Springfield has more tracks played than Shelbyville. But that does not imply that citizens of Springfield listen to music more often. This city is simply bigger, and there are more users.\n",
    "\n",
    "Now group the data by day of the week and find the number of tracks played on Monday, Wednesday, and Friday.\n"
   ]
  },
  {
   "cell_type": "code",
   "execution_count": 19,
   "metadata": {
    "id": "uZMKjiJz_Zcu"
   },
   "outputs": [
    {
     "data": {
      "text/plain": [
       "day\n",
       "Friday       21840\n",
       "Monday       21354\n",
       "Wednesday    18059\n",
       "Name: track, dtype: int64"
      ]
     },
     "execution_count": 19,
     "metadata": {},
     "output_type": "execute_result"
    }
   ],
   "source": [
    "# Calculating tracks played on each of the three days\n",
    "df_day_count = df.groupby('day')['track'].count()\n",
    "\n",
    "df_day_count"
   ]
  },
  {
   "cell_type": "markdown",
   "metadata": {
    "id": "cC2tNrlL_Zcu"
   },
   "source": [
    "Wednesday is the quietest day overall. But if we consider the two cities separately, we might come to a different conclusion."
   ]
  },
  {
   "cell_type": "markdown",
   "metadata": {
    "id": "POzs8bGa_Zcu"
   },
   "source": [
    "You have seen how grouping by city or day works. Now write a function that will group by both.\n",
    "\n",
    "Create the `number_tracks()` function to calculate the number of songs played for a given day and city. It will require two parameters:\n",
    "* day of the week\n",
    "* name of the city\n",
    "\n",
    "In the function, use a variable to store the rows from the original table, where:\n",
    "  * `'day'` column value is equal to the `day` parameter\n",
    "  * `'city'` column value is equal to the `city` parameter\n",
    "\n",
    "Apply consecutive filtering with logical indexing.\n",
    "\n",
    "Then calculate the `'user_id'` column values in the resulting table. Store the result to a new variable. Return this variable from the function."
   ]
  },
  {
   "cell_type": "code",
   "execution_count": 20,
   "metadata": {
    "id": "Nz3GdQB1_Zcu"
   },
   "outputs": [],
   "source": [
    "# <creating the function number_tracks()>\n",
    "# We'll declare a function with two parameters: day=, city=.\n",
    "# Let the track_list variable store the df rows where\n",
    "# the value in the 'day' column is equal to the day= parameter and, at the same time, \n",
    "# the value in the 'city' column is equal to the city= parameter (apply consecutive filtering \n",
    "# with logical indexing).\n",
    "# Let the track_list_count variable store the number of 'user_id' column values in track_list\n",
    "# (found with the count() method).\n",
    "# Let the function return a number: the value of track_list_count.\n",
    "def number_tracks(city, day):\n",
    "    track_list = df[df['day'] == day]\n",
    "    track_list = track_list[track_list['city'] == city]\n",
    "    track_list_count = track_list['user_id'].count()\n",
    "    return track_list_count\n",
    "\n",
    "# The function counts tracked played for a certain city and day.\n",
    "# It first retrieves the rows with the intended day from the table,\n",
    "# then filters out the rows with the intended city from the result,\n",
    "# then finds the number of 'user_id' values in the filtered table,\n",
    "# then returns that number.\n",
    "# To see what it returns, wrap the function call in print()."
   ]
  },
  {
   "cell_type": "markdown",
   "metadata": {
    "id": "ytf7xFrFJQ2r"
   },
   "source": [
    "Call `number_tracks()` six times, changing the parameter values, so that you retrieve the data on both cities for each of the three days."
   ]
  },
  {
   "cell_type": "code",
   "execution_count": 21,
   "metadata": {
    "id": "rJcRATNQ_Zcu"
   },
   "outputs": [
    {
     "data": {
      "text/plain": [
       "15740"
      ]
     },
     "execution_count": 21,
     "metadata": {},
     "output_type": "execute_result"
    }
   ],
   "source": [
    "# the number of songs played in Springfield on Monday\n",
    "number_tracks('Springfield','Monday')"
   ]
  },
  {
   "cell_type": "code",
   "execution_count": 22,
   "metadata": {
    "id": "hq_ncZ5T_Zcu"
   },
   "outputs": [
    {
     "data": {
      "text/plain": [
       "5614"
      ]
     },
     "execution_count": 22,
     "metadata": {},
     "output_type": "execute_result"
    }
   ],
   "source": [
    "# the number of songs played in Shelbyville on Monday\n",
    "number_tracks('Shelbyville','Monday')"
   ]
  },
  {
   "cell_type": "code",
   "execution_count": 23,
   "metadata": {
    "id": "_NTy2VPU_Zcu"
   },
   "outputs": [
    {
     "data": {
      "text/plain": [
       "11056"
      ]
     },
     "execution_count": 23,
     "metadata": {},
     "output_type": "execute_result"
    }
   ],
   "source": [
    "# the number of songs played in Springfield on Wednesday\n",
    "number_tracks('Springfield','Wednesday')"
   ]
  },
  {
   "cell_type": "code",
   "execution_count": 24,
   "metadata": {
    "id": "j2y3TAwo_Zcu"
   },
   "outputs": [
    {
     "data": {
      "text/plain": [
       "7003"
      ]
     },
     "execution_count": 24,
     "metadata": {},
     "output_type": "execute_result"
    }
   ],
   "source": [
    "# the number of songs played in Shelbyville on Wednesday\n",
    "number_tracks('Shelbyville','Wednesday')"
   ]
  },
  {
   "cell_type": "code",
   "execution_count": 25,
   "metadata": {
    "id": "vYDw5u_K_Zcu"
   },
   "outputs": [
    {
     "data": {
      "text/plain": [
       "15945"
      ]
     },
     "execution_count": 25,
     "metadata": {},
     "output_type": "execute_result"
    }
   ],
   "source": [
    "# the number of songs played in Springfield on Friday\n",
    "number_tracks('Springfield','Friday')"
   ]
  },
  {
   "cell_type": "code",
   "execution_count": 26,
   "metadata": {
    "id": "8_yzFtW3_Zcu"
   },
   "outputs": [
    {
     "data": {
      "text/plain": [
       "5895"
      ]
     },
     "execution_count": 26,
     "metadata": {},
     "output_type": "execute_result"
    }
   ],
   "source": [
    "# the number of songs played in Shelbyville on Friday\n",
    "number_tracks('Shelbyville','Friday')"
   ]
  },
  {
   "cell_type": "markdown",
   "metadata": {
    "id": "7QXffbO-_Zcu"
   },
   "source": [
    "Use `pd.DataFrame` to create a table, where\n",
    "* Column names are: `['city', 'monday', 'wednesday', 'friday']`\n",
    "* The data is the results you got from `number_tracks()`"
   ]
  },
  {
   "cell_type": "code",
   "execution_count": 27,
   "metadata": {
    "id": "APAcLpOr_Zcu"
   },
   "outputs": [
    {
     "data": {
      "text/html": [
       "<div>\n",
       "<style scoped>\n",
       "    .dataframe tbody tr th:only-of-type {\n",
       "        vertical-align: middle;\n",
       "    }\n",
       "\n",
       "    .dataframe tbody tr th {\n",
       "        vertical-align: top;\n",
       "    }\n",
       "\n",
       "    .dataframe thead th {\n",
       "        text-align: right;\n",
       "    }\n",
       "</style>\n",
       "<table border=\"1\" class=\"dataframe\">\n",
       "  <thead>\n",
       "    <tr style=\"text-align: right;\">\n",
       "      <th></th>\n",
       "      <th>city</th>\n",
       "      <th>monday</th>\n",
       "      <th>wednesday</th>\n",
       "      <th>friday</th>\n",
       "    </tr>\n",
       "  </thead>\n",
       "  <tbody>\n",
       "    <tr>\n",
       "      <th>0</th>\n",
       "      <td>Springfield</td>\n",
       "      <td>15740</td>\n",
       "      <td>11056</td>\n",
       "      <td>15945</td>\n",
       "    </tr>\n",
       "    <tr>\n",
       "      <th>1</th>\n",
       "      <td>Shelbyville</td>\n",
       "      <td>5614</td>\n",
       "      <td>11056</td>\n",
       "      <td>5895</td>\n",
       "    </tr>\n",
       "  </tbody>\n",
       "</table>\n",
       "</div>"
      ],
      "text/plain": [
       "          city  monday  wednesday  friday\n",
       "0  Springfield   15740      11056   15945\n",
       "1  Shelbyville    5614      11056    5895"
      ]
     },
     "execution_count": 27,
     "metadata": {},
     "output_type": "execute_result"
    }
   ],
   "source": [
    "# table with results\n",
    "columns = ['city', 'monday', 'wednesday', 'friday']\n",
    "\n",
    "rows = [\n",
    "    ['Springfield', number_tracks('Springfield','Monday'), number_tracks('Springfield','Wednesday'), number_tracks('Springfield','Friday')], \n",
    "        ['Shelbyville', number_tracks('Shelbyville','Monday'), number_tracks('Springfield','Wednesday'),number_tracks('Shelbyville','Friday')], \n",
    "\n",
    "       ]\n",
    "\n",
    "result_table = pd.DataFrame(data = rows, columns = columns)\n",
    "\n",
    "result_table"
   ]
  },
  {
   "cell_type": "markdown",
   "metadata": {
    "id": "-EgPIHYu_Zcu"
   },
   "source": [
    "**Conclusions**\n",
    "\n",
    "The data reveals differences in user behavior:\n",
    "\n",
    "- In Springfield, the number of songs played peaks on Mondays and Fridays, while on Wednesday there is a decrease in activity.\n",
    "- In Shelbyville, on the contrary, users listen to music more on Wednesday. User activity on Monday and Friday is smaller.\n",
    "\n",
    "So the first hypothesis seems to be correct."
   ]
  },
  {
   "cell_type": "markdown",
   "metadata": {
    "id": "p7nFQajCVw5B"
   },
   "source": [
    "[Back to Contents](#back)"
   ]
  },
  {
   "cell_type": "markdown",
   "metadata": {
    "id": "atZAxtq4_Zcu"
   },
   "source": [
    "### Hypothesis 2: music at the beginning and end of the week <a id='week'></a>"
   ]
  },
  {
   "cell_type": "markdown",
   "metadata": {
    "id": "eXrQqXFH_Zcu"
   },
   "source": [
    "According to the second hypothesis, on Monday morning and Friday night, citizens of Springfield listen to genres that differ from ones users from Shelbyville enjoy."
   ]
  },
  {
   "cell_type": "markdown",
   "metadata": {
    "id": "S8UcW6Hw_Zcu"
   },
   "source": [
    "Get tables (make sure that the name of your combined table matches the DataFrame given in the two code blocks below):\n",
    "* For Springfield — `spr_general`\n",
    "* For Shelbyville — `shel_general`"
   ]
  },
  {
   "cell_type": "code",
   "execution_count": 28,
   "metadata": {
    "id": "qeaFfM_P_Zcu",
    "pycharm": {
     "is_executing": true
    }
   },
   "outputs": [
    {
     "data": {
      "text/html": [
       "<div>\n",
       "<style scoped>\n",
       "    .dataframe tbody tr th:only-of-type {\n",
       "        vertical-align: middle;\n",
       "    }\n",
       "\n",
       "    .dataframe tbody tr th {\n",
       "        vertical-align: top;\n",
       "    }\n",
       "\n",
       "    .dataframe thead th {\n",
       "        text-align: right;\n",
       "    }\n",
       "</style>\n",
       "<table border=\"1\" class=\"dataframe\">\n",
       "  <thead>\n",
       "    <tr style=\"text-align: right;\">\n",
       "      <th></th>\n",
       "      <th>user_id</th>\n",
       "      <th>track</th>\n",
       "      <th>artist</th>\n",
       "      <th>genre</th>\n",
       "      <th>city</th>\n",
       "      <th>time</th>\n",
       "      <th>day</th>\n",
       "    </tr>\n",
       "  </thead>\n",
       "  <tbody>\n",
       "    <tr>\n",
       "      <th>1</th>\n",
       "      <td>55204538</td>\n",
       "      <td>Delayed Because of Accident</td>\n",
       "      <td>Andreas Rönnberg</td>\n",
       "      <td>rock</td>\n",
       "      <td>Springfield</td>\n",
       "      <td>14:07:09</td>\n",
       "      <td>Friday</td>\n",
       "    </tr>\n",
       "    <tr>\n",
       "      <th>4</th>\n",
       "      <td>E2DC1FAE</td>\n",
       "      <td>Soul People</td>\n",
       "      <td>Space Echo</td>\n",
       "      <td>dance</td>\n",
       "      <td>Springfield</td>\n",
       "      <td>08:34:34</td>\n",
       "      <td>Monday</td>\n",
       "    </tr>\n",
       "    <tr>\n",
       "      <th>6</th>\n",
       "      <td>4CB90AA5</td>\n",
       "      <td>True</td>\n",
       "      <td>Roman Messer</td>\n",
       "      <td>dance</td>\n",
       "      <td>Springfield</td>\n",
       "      <td>13:00:07</td>\n",
       "      <td>Wednesday</td>\n",
       "    </tr>\n",
       "    <tr>\n",
       "      <th>7</th>\n",
       "      <td>F03E1C1F</td>\n",
       "      <td>Feeling This Way</td>\n",
       "      <td>Polina Griffith</td>\n",
       "      <td>dance</td>\n",
       "      <td>Springfield</td>\n",
       "      <td>20:47:49</td>\n",
       "      <td>Wednesday</td>\n",
       "    </tr>\n",
       "    <tr>\n",
       "      <th>8</th>\n",
       "      <td>8FA1D3BE</td>\n",
       "      <td>L’estate</td>\n",
       "      <td>Julia Dalia</td>\n",
       "      <td>ruspop</td>\n",
       "      <td>Springfield</td>\n",
       "      <td>09:17:40</td>\n",
       "      <td>Friday</td>\n",
       "    </tr>\n",
       "  </tbody>\n",
       "</table>\n",
       "</div>"
      ],
      "text/plain": [
       "    user_id                        track            artist   genre  \\\n",
       "1  55204538  Delayed Because of Accident  Andreas Rönnberg    rock   \n",
       "4  E2DC1FAE                  Soul People        Space Echo   dance   \n",
       "6  4CB90AA5                         True      Roman Messer   dance   \n",
       "7  F03E1C1F             Feeling This Way   Polina Griffith   dance   \n",
       "8  8FA1D3BE                     L’estate       Julia Dalia  ruspop   \n",
       "\n",
       "          city      time        day  \n",
       "1  Springfield  14:07:09     Friday  \n",
       "4  Springfield  08:34:34     Monday  \n",
       "6  Springfield  13:00:07  Wednesday  \n",
       "7  Springfield  20:47:49  Wednesday  \n",
       "8  Springfield  09:17:40     Friday  "
      ]
     },
     "execution_count": 28,
     "metadata": {},
     "output_type": "execute_result"
    }
   ],
   "source": [
    "# create the spr_general table from the df rows, \n",
    "# where the value in the 'city' column is 'Springfield'\n",
    "spr_general = df[df['city'] == 'Springfield']\n",
    "spr_general.head()"
   ]
  },
  {
   "cell_type": "code",
   "execution_count": 29,
   "metadata": {
    "id": "ORaVRKto_Zcu"
   },
   "outputs": [
    {
     "data": {
      "text/html": [
       "<div>\n",
       "<style scoped>\n",
       "    .dataframe tbody tr th:only-of-type {\n",
       "        vertical-align: middle;\n",
       "    }\n",
       "\n",
       "    .dataframe tbody tr th {\n",
       "        vertical-align: top;\n",
       "    }\n",
       "\n",
       "    .dataframe thead th {\n",
       "        text-align: right;\n",
       "    }\n",
       "</style>\n",
       "<table border=\"1\" class=\"dataframe\">\n",
       "  <thead>\n",
       "    <tr style=\"text-align: right;\">\n",
       "      <th></th>\n",
       "      <th>user_id</th>\n",
       "      <th>track</th>\n",
       "      <th>artist</th>\n",
       "      <th>genre</th>\n",
       "      <th>city</th>\n",
       "      <th>time</th>\n",
       "      <th>day</th>\n",
       "    </tr>\n",
       "  </thead>\n",
       "  <tbody>\n",
       "    <tr>\n",
       "      <th>0</th>\n",
       "      <td>FFB692EC</td>\n",
       "      <td>Kamigata To Boots</td>\n",
       "      <td>The Mass Missile</td>\n",
       "      <td>rock</td>\n",
       "      <td>Shelbyville</td>\n",
       "      <td>20:28:33</td>\n",
       "      <td>Wednesday</td>\n",
       "    </tr>\n",
       "    <tr>\n",
       "      <th>2</th>\n",
       "      <td>20EC38</td>\n",
       "      <td>Funiculì funiculà</td>\n",
       "      <td>Mario Lanza</td>\n",
       "      <td>pop</td>\n",
       "      <td>Shelbyville</td>\n",
       "      <td>20:58:07</td>\n",
       "      <td>Wednesday</td>\n",
       "    </tr>\n",
       "    <tr>\n",
       "      <th>3</th>\n",
       "      <td>A3DD03C9</td>\n",
       "      <td>Dragons in the Sunset</td>\n",
       "      <td>Fire + Ice</td>\n",
       "      <td>folk</td>\n",
       "      <td>Shelbyville</td>\n",
       "      <td>08:37:09</td>\n",
       "      <td>Monday</td>\n",
       "    </tr>\n",
       "    <tr>\n",
       "      <th>5</th>\n",
       "      <td>842029A1</td>\n",
       "      <td>Chains</td>\n",
       "      <td>Obladaet</td>\n",
       "      <td>rusrap</td>\n",
       "      <td>Shelbyville</td>\n",
       "      <td>13:09:41</td>\n",
       "      <td>Friday</td>\n",
       "    </tr>\n",
       "    <tr>\n",
       "      <th>9</th>\n",
       "      <td>E772D5C0</td>\n",
       "      <td>Pessimist</td>\n",
       "      <td>unknown</td>\n",
       "      <td>dance</td>\n",
       "      <td>Shelbyville</td>\n",
       "      <td>21:20:49</td>\n",
       "      <td>Wednesday</td>\n",
       "    </tr>\n",
       "    <tr>\n",
       "      <th>...</th>\n",
       "      <td>...</td>\n",
       "      <td>...</td>\n",
       "      <td>...</td>\n",
       "      <td>...</td>\n",
       "      <td>...</td>\n",
       "      <td>...</td>\n",
       "      <td>...</td>\n",
       "    </tr>\n",
       "    <tr>\n",
       "      <th>65063</th>\n",
       "      <td>D94F810B</td>\n",
       "      <td>Theme from the Walking Dead</td>\n",
       "      <td>Proyecto Halloween</td>\n",
       "      <td>film</td>\n",
       "      <td>Shelbyville</td>\n",
       "      <td>21:14:40</td>\n",
       "      <td>Monday</td>\n",
       "    </tr>\n",
       "    <tr>\n",
       "      <th>65064</th>\n",
       "      <td>BC8EC5CF</td>\n",
       "      <td>Red Lips: Gta (Rover Rework)</td>\n",
       "      <td>Rover</td>\n",
       "      <td>electronic</td>\n",
       "      <td>Shelbyville</td>\n",
       "      <td>21:06:50</td>\n",
       "      <td>Monday</td>\n",
       "    </tr>\n",
       "    <tr>\n",
       "      <th>65065</th>\n",
       "      <td>29E04611</td>\n",
       "      <td>Bre Petrunko</td>\n",
       "      <td>Perunika Trio</td>\n",
       "      <td>world</td>\n",
       "      <td>Shelbyville</td>\n",
       "      <td>13:56:00</td>\n",
       "      <td>Monday</td>\n",
       "    </tr>\n",
       "    <tr>\n",
       "      <th>65066</th>\n",
       "      <td>1B91C621</td>\n",
       "      <td>(Hello) Cloud Mountain</td>\n",
       "      <td>sleepmakeswaves</td>\n",
       "      <td>postrock</td>\n",
       "      <td>Shelbyville</td>\n",
       "      <td>09:22:13</td>\n",
       "      <td>Monday</td>\n",
       "    </tr>\n",
       "    <tr>\n",
       "      <th>65075</th>\n",
       "      <td>D08D4A55</td>\n",
       "      <td>Maybe One Day (feat. Black Spade)</td>\n",
       "      <td>Blu &amp; Exile</td>\n",
       "      <td>hiphop</td>\n",
       "      <td>Shelbyville</td>\n",
       "      <td>10:00:00</td>\n",
       "      <td>Monday</td>\n",
       "    </tr>\n",
       "  </tbody>\n",
       "</table>\n",
       "<p>18512 rows × 7 columns</p>\n",
       "</div>"
      ],
      "text/plain": [
       "        user_id                              track              artist  \\\n",
       "0      FFB692EC                  Kamigata To Boots    The Mass Missile   \n",
       "2        20EC38                  Funiculì funiculà         Mario Lanza   \n",
       "3      A3DD03C9              Dragons in the Sunset          Fire + Ice   \n",
       "5      842029A1                             Chains            Obladaet   \n",
       "9      E772D5C0                          Pessimist             unknown   \n",
       "...         ...                                ...                 ...   \n",
       "65063  D94F810B        Theme from the Walking Dead  Proyecto Halloween   \n",
       "65064  BC8EC5CF       Red Lips: Gta (Rover Rework)               Rover   \n",
       "65065  29E04611                       Bre Petrunko       Perunika Trio   \n",
       "65066  1B91C621             (Hello) Cloud Mountain     sleepmakeswaves   \n",
       "65075  D08D4A55  Maybe One Day (feat. Black Spade)         Blu & Exile   \n",
       "\n",
       "            genre         city      time        day  \n",
       "0            rock  Shelbyville  20:28:33  Wednesday  \n",
       "2             pop  Shelbyville  20:58:07  Wednesday  \n",
       "3            folk  Shelbyville  08:37:09     Monday  \n",
       "5          rusrap  Shelbyville  13:09:41     Friday  \n",
       "9           dance  Shelbyville  21:20:49  Wednesday  \n",
       "...           ...          ...       ...        ...  \n",
       "65063        film  Shelbyville  21:14:40     Monday  \n",
       "65064  electronic  Shelbyville  21:06:50     Monday  \n",
       "65065       world  Shelbyville  13:56:00     Monday  \n",
       "65066    postrock  Shelbyville  09:22:13     Monday  \n",
       "65075      hiphop  Shelbyville  10:00:00     Monday  \n",
       "\n",
       "[18512 rows x 7 columns]"
      ]
     },
     "execution_count": 29,
     "metadata": {},
     "output_type": "execute_result"
    }
   ],
   "source": [
    "# create the shel_general from the df rows,\n",
    "# where the value in the 'city' column is 'Shelbyville'\n",
    "shel_general = df[df['city'] == 'Shelbyville']\n",
    "shel_general"
   ]
  },
  {
   "cell_type": "markdown",
   "metadata": {
    "id": "MEJV-CX2_Zcu"
   },
   "source": [
    "Write the `genre_weekday()` function with four parameters:\n",
    "* A table for data (`df`)\n",
    "* The day of the week (`day`)\n",
    "* The first timestamp, in 'hh:mm' format (`time1`)\n",
    "* The last timestamp, in 'hh:mm' format (`time2`)\n",
    "\n",
    "The function should return info on the 15 most popular genres on a given day within the period between the two timestamps."
   ]
  },
  {
   "cell_type": "code",
   "execution_count": 30,
   "metadata": {
    "id": "laJT9BYl_Zcu"
   },
   "outputs": [],
   "source": [
    "# 1) Let the genre_df variable store the rows that meet several conditions:\n",
    "#    - the value in the 'day' column is equal to the value of the day= argument\n",
    "#    - the value in the 'time' column is greater than the value of the time1= argument\n",
    "#    - the value in the 'time' column is smaller than the value of the time2= argument\n",
    "#    Use consecutive filtering with logical indexing.\n",
    "\n",
    "\n",
    "# 2) Group genre_df by the 'genre' column, take one of its columns, \n",
    "#    and use the count() method to find the number of entries for each of \n",
    "#    the represented genres; store the resulting Series to the\n",
    "#    genre_df_count variable\n",
    "\n",
    "# 3) Sort genre_df_count in descending order of frequency and store the result\n",
    "#    to the genre_df_sorted variable\n",
    "\n",
    "# 4) Return a Series object with the first 15 genre_df_sorted value - the 15 most\n",
    "#    popular genres (on a given day, within a certain timeframe)\n",
    "\n",
    "# Write your function here\n",
    "def genre_weekday(df, day, time1, time2):\n",
    "    # consecutive filtering\n",
    "    # Create the variable genre_df which will store only those df rows where the day is equal to day=\n",
    "    genre_df = df[df['day'] == day]\n",
    "\n",
    "    # filter again so that genre_df will store only those rows where the time is smaller than time2=\n",
    "    genre_df = genre_df[genre_df['time'] < time2]\n",
    "\n",
    "    # filter once more so that genre_df will store only rows where the time is greater than time1=\n",
    "    genre_df = genre_df[genre_df['time'] > time1]\n",
    "\n",
    "    # group the filtered DataFrame by the column with the names of genres, take the genre column, and find the number of rows for each genre with the count() method\n",
    "    genre_df_count = genre_df.groupby('genre').count()\n",
    "\n",
    "    # sort the result in descending order (so that the most popular genres come first in the Series object)\n",
    "    genre_df_sorted = genre_df_count.sort_values(by= 'user_id', ascending= False)\n",
    "\n",
    "    # we will return the Series object storing the 15 most popular genres on a given day in a given timeframe\n",
    "    return genre_df_sorted['user_id'][:15]"
   ]
  },
  {
   "cell_type": "markdown",
   "metadata": {
    "id": "la2s2_PF_Zcu"
   },
   "source": [
    "Compare the results of the `genre_weekday()` function for Springfield and Shelbyville on Monday morning (from 7AM to 11AM) and on Friday evening (from 17:00 to 23:00):"
   ]
  },
  {
   "cell_type": "code",
   "execution_count": 31,
   "metadata": {
    "id": "yz7itPUQ_Zcu"
   },
   "outputs": [
    {
     "data": {
      "text/plain": [
       "genre\n",
       "pop            781\n",
       "dance          549\n",
       "electronic     480\n",
       "rock           474\n",
       "hiphop         286\n",
       "ruspop         186\n",
       "world          181\n",
       "rusrap         175\n",
       "alternative    164\n",
       "unknown        161\n",
       "classical      157\n",
       "metal          120\n",
       "jazz           100\n",
       "folk            97\n",
       "soundtrack      95\n",
       "Name: user_id, dtype: int64"
      ]
     },
     "execution_count": 31,
     "metadata": {},
     "output_type": "execute_result"
    }
   ],
   "source": [
    "# calling the function for Monday morning in Springfield (use spr_general instead of the df table)\n",
    "genre_weekday(df= spr_general, day= 'Monday', time1= '07:00', time2= '11:00')"
   ]
  },
  {
   "cell_type": "code",
   "execution_count": 32,
   "metadata": {
    "id": "kwUcHPdy_Zcu"
   },
   "outputs": [
    {
     "data": {
      "text/plain": [
       "genre\n",
       "pop            218\n",
       "dance          182\n",
       "rock           162\n",
       "electronic     147\n",
       "hiphop          80\n",
       "ruspop          64\n",
       "alternative     58\n",
       "rusrap          55\n",
       "jazz            44\n",
       "classical       40\n",
       "world           36\n",
       "rap             32\n",
       "soundtrack      31\n",
       "rnb             27\n",
       "metal           27\n",
       "Name: user_id, dtype: int64"
      ]
     },
     "execution_count": 32,
     "metadata": {},
     "output_type": "execute_result"
    }
   ],
   "source": [
    "# calling the function for Monday morning in Shelbyville (use shel_general instead of the df table)\n",
    "genre_weekday(df= shel_general, day= 'Monday', time1= '07:00', time2= '11:00')"
   ]
  },
  {
   "cell_type": "code",
   "execution_count": 33,
   "metadata": {
    "id": "EzXVRE1o_Zcu"
   },
   "outputs": [
    {
     "data": {
      "text/plain": [
       "genre\n",
       "pop            713\n",
       "rock           517\n",
       "dance          495\n",
       "electronic     482\n",
       "hiphop         273\n",
       "world          208\n",
       "ruspop         170\n",
       "classical      163\n",
       "alternative    163\n",
       "rusrap         142\n",
       "jazz           111\n",
       "unknown        110\n",
       "soundtrack     105\n",
       "rnb             90\n",
       "metal           88\n",
       "Name: user_id, dtype: int64"
      ]
     },
     "execution_count": 33,
     "metadata": {},
     "output_type": "execute_result"
    }
   ],
   "source": [
    "# calling the function for Friday evening in Springfield\n",
    "genre_weekday(df= spr_general, day= 'Friday', time1= '17:00', time2= '23:00')"
   ]
  },
  {
   "cell_type": "code",
   "execution_count": 34,
   "metadata": {
    "id": "JZaEKu5v_Zcu"
   },
   "outputs": [
    {
     "data": {
      "text/plain": [
       "genre\n",
       "pop            256\n",
       "rock           216\n",
       "electronic     216\n",
       "dance          210\n",
       "hiphop          97\n",
       "alternative     63\n",
       "jazz            61\n",
       "classical       60\n",
       "rusrap          59\n",
       "world           54\n",
       "unknown         47\n",
       "ruspop          47\n",
       "soundtrack      40\n",
       "metal           39\n",
       "rap             36\n",
       "Name: user_id, dtype: int64"
      ]
     },
     "execution_count": 34,
     "metadata": {},
     "output_type": "execute_result"
    }
   ],
   "source": [
    "# calling the function for Friday evening in Shelbyville\n",
    "genre_weekday(df= shel_general, day= 'Friday', time1= '17:00', time2= '23:00')"
   ]
  },
  {
   "cell_type": "markdown",
   "metadata": {
    "id": "wrCe4MNX_Zcu"
   },
   "source": [
    "**Conclusion**\n",
    "\n",
    "Having compared the top 15 genres on Monday morning, we can draw the following conclusions:\n",
    "\n",
    "1. Users from Springfield and Shelbyville listen to similar music. The top five genres are the same, only rock and electronic have switched places.\n",
    "\n",
    "2. In Springfield, the number of missing values turned out to be so big that the value `'unknown'` came in 10th. This means that missing values make up a considerable portion of the data, which may be a basis for questioning the reliability of our conclusions.\n",
    "\n",
    "For Friday evening, the situation is similar. Individual genres vary somewhat, but on the whole, the top 15 is similar for the two cities.\n",
    "\n",
    "Thus, the second hypothesis has been partially proven true:\n",
    "* Users listen to similar music at the beginning and end of the week.\n",
    "* There is no major difference between Springfield and Shelbyville. In both cities, pop is the most popular genre.\n",
    "\n",
    "However, the number of missing values makes this result questionable. In Springfield, there are so many that they affect our top 15. Were we not missing these values, things might look different."
   ]
  },
  {
   "cell_type": "markdown",
   "metadata": {
    "id": "jLmXgdanVyhP"
   },
   "source": [
    "[Back to Contents](#back)"
   ]
  },
  {
   "cell_type": "markdown",
   "metadata": {
    "id": "JolODAqr_Zcu"
   },
   "source": [
    "### Hypothesis 3: genre preferences in Springfield and Shelbyville <a id='genre'></a>\n",
    "\n",
    "Hypothesis: Shelbyville loves rap music. Springfield's citizens are more into pop."
   ]
  },
  {
   "cell_type": "markdown",
   "metadata": {
    "id": "DlegSvaT_Zcu"
   },
   "source": [
    "Group the `spr_general` table by genre and find the number of songs played for each genre with the `count()` method. Then sort the result in descending order and store it to `spr_genres`."
   ]
  },
  {
   "cell_type": "code",
   "execution_count": 35,
   "metadata": {
    "id": "r19lIPke_Zcu"
   },
   "outputs": [],
   "source": [
    "# on one line: group the spr_general table by the 'genre' column, \n",
    "# count the 'genre' values with count() in the grouping, \n",
    "# sort the resulting Series in descending order, and store it to spr_genres\n",
    "spr_genres = spr_general.groupby('genre').count().sort_values(by= 'user_id', ascending= False)"
   ]
  },
  {
   "cell_type": "markdown",
   "metadata": {
    "id": "6kMuomxTiIr8"
   },
   "source": [
    "Print the first 10 rows from `spr_genres`:"
   ]
  },
  {
   "cell_type": "code",
   "execution_count": 36,
   "metadata": {
    "id": "WhCSooF8_Zcv"
   },
   "outputs": [
    {
     "data": {
      "text/plain": [
       "genre\n",
       "pop            5892\n",
       "dance          4435\n",
       "rock           3965\n",
       "electronic     3786\n",
       "hiphop         2096\n",
       "classical      1616\n",
       "world          1432\n",
       "alternative    1379\n",
       "ruspop         1372\n",
       "rusrap         1161\n",
       "Name: user_id, dtype: int64"
      ]
     },
     "execution_count": 36,
     "metadata": {},
     "output_type": "execute_result"
    }
   ],
   "source": [
    "# printing the first 10 rows of spr_genres\n",
    "spr_genres['user_id'].head(10)"
   ]
  },
  {
   "cell_type": "markdown",
   "metadata": {
    "id": "cnPG2vnN_Zcv"
   },
   "source": [
    "Now do the same with the data on Shelbyville.\n",
    "\n",
    "Group the `shel_general` table by genre and find the number of songs played for each genre. Then sort the result in descending order and store it to the `shel_genres` table:\n"
   ]
  },
  {
   "cell_type": "code",
   "execution_count": 37,
   "metadata": {
    "id": "gluLIpE7_Zcv"
   },
   "outputs": [],
   "source": [
    "# on one line: group the shel_general table by the 'genre' column, \n",
    "# count the 'genre' values in the grouping with count(), \n",
    "# sort the resulting Series in descending order and store it to shel_genres\n",
    "shel_genres = shel_general.groupby('genre').count().sort_values(by= 'user_id', ascending= False)"
   ]
  },
  {
   "cell_type": "markdown",
   "metadata": {
    "id": "5Doha_ODgyQ8"
   },
   "source": [
    "Print the first 10 rows of `shel_genres`:"
   ]
  },
  {
   "cell_type": "code",
   "execution_count": 38,
   "metadata": {
    "id": "uaGJHjVU_Zcv"
   },
   "outputs": [
    {
     "data": {
      "text/plain": [
       "genre\n",
       "pop           2431\n",
       "dance         1932\n",
       "rock          1879\n",
       "electronic    1736\n",
       "hiphop         960\n",
       "Name: user_id, dtype: int64"
      ]
     },
     "execution_count": 38,
     "metadata": {},
     "output_type": "execute_result"
    }
   ],
   "source": [
    "# printing the first 10 rows from shel_genres\n",
    "shel_genres['user_id'].head()"
   ]
  },
  {
   "cell_type": "markdown",
   "metadata": {
    "id": "RY51YJYu_Zcv"
   },
   "source": [
    "**Conclusion**"
   ]
  },
  {
   "cell_type": "markdown",
   "metadata": {
    "id": "nVhnJEm__Zcv"
   },
   "source": [
    "The hypothesis has been partially proven true:\n",
    "* Pop music is the most popular genre in Springfield, as expected.\n",
    "* However, pop music turned out to be equally popular in Springfield and Shelbyville, and rap wasn't in the top 5 for either city.\n"
   ]
  },
  {
   "cell_type": "markdown",
   "metadata": {
    "id": "Byr0RfpPVz14"
   },
   "source": [
    "[Back to Contents](#back)"
   ]
  },
  {
   "cell_type": "markdown",
   "metadata": {
    "id": "ykKQ0N65_Zcv"
   },
   "source": [
    "# Findings <a id='end'></a>"
   ]
  },
  {
   "cell_type": "markdown",
   "metadata": {
    "id": "tjUwbHb3_Zcv"
   },
   "source": [
    "We have tested the following three hypotheses:\n",
    "\n",
    "1. User activity differs depending on the day of the week and from city to city. \n",
    "2. On Monday mornings, Springfield and Shelbyville residents listen to different genres. This is also true for Friday evenings. \n",
    "3. Springfield and Shelbyville listeners have different preferences. In Springfield, they prefer pop, while Shelbyville has more rap fans.\n",
    "\n",
    "After analyzing the data, we concluded:\n",
    "\n",
    "1. User activity in Springfield and Shelbyville depends on the day of the week, though the cities vary in different ways. \n",
    "\n",
    "The first hypothesis is fully accepted.\n",
    "\n",
    "2. Musical preferences do not vary significantly over the course of the week in both Springfield and Shelbyville. We can see small differences in order on Mondays, but:\n",
    "* In Springfield and Shelbyville, people listen to pop music most.\n",
    "\n",
    "So we can't accept this hypothesis. We must also keep in mind that the result could have been different if not for the missing values.\n",
    "\n",
    "3. It turns out that the musical preferences of users from Springfield and Shelbyville are quite similar.\n",
    "\n",
    "The third hypothesis is rejected. If there is any difference in preferences, it cannot be seen from this data."
   ]
  },
  {
   "cell_type": "markdown",
   "metadata": {
    "id": "tjUwbHb3_Zcv"
   },
   "source": [
    "### Note \n",
    "In real projects, research involves statistical hypothesis testing, which is more precise and more quantitative. Also note that you cannot always draw conclusions about an entire city based on the data from just one source.\n",
    "\n",
    "You will study hypothesis testing in the sprint on statistical data analysis."
   ]
  },
  {
   "cell_type": "markdown",
   "metadata": {
    "id": "Ju4AHDSgV1FE"
   },
   "source": [
    "[Back to Contents](#back)"
   ]
  }
 ],
 "metadata": {
  "ExecuteTimeLog": [
   {
    "duration": 488,
    "start_time": "2024-07-30T07:10:47.091Z"
   },
   {
    "duration": 342,
    "start_time": "2024-07-30T07:11:33.840Z"
   },
   {
    "duration": 186,
    "start_time": "2024-07-30T07:11:47.927Z"
   },
   {
    "duration": 23,
    "start_time": "2024-07-30T07:12:04.825Z"
   },
   {
    "duration": 33,
    "start_time": "2024-07-30T07:12:52.587Z"
   },
   {
    "duration": 315,
    "start_time": "2024-07-30T17:07:38.129Z"
   },
   {
    "duration": 21,
    "start_time": "2024-07-30T17:07:58.665Z"
   },
   {
    "duration": 22,
    "start_time": "2024-07-30T17:08:44.444Z"
   },
   {
    "duration": 622,
    "start_time": "2024-07-30T17:09:32.347Z"
   },
   {
    "duration": 46,
    "start_time": "2024-07-30T17:12:14.138Z"
   },
   {
    "duration": 13,
    "start_time": "2024-07-30T17:35:30.626Z"
   },
   {
    "duration": 12,
    "start_time": "2024-07-30T17:35:43.604Z"
   },
   {
    "duration": 47,
    "start_time": "2024-07-30T17:38:03.006Z"
   },
   {
    "duration": 47,
    "start_time": "2024-07-30T17:38:16.916Z"
   },
   {
    "duration": 45,
    "start_time": "2024-07-30T17:39:10.126Z"
   },
   {
    "duration": 6,
    "start_time": "2024-07-30T17:39:22.722Z"
   },
   {
    "duration": 44,
    "start_time": "2024-07-30T17:39:34.387Z"
   },
   {
    "duration": 5,
    "start_time": "2024-07-30T17:39:37.214Z"
   },
   {
    "duration": 14,
    "start_time": "2024-07-30T17:42:03.823Z"
   },
   {
    "duration": 6,
    "start_time": "2024-07-30T17:42:06.071Z"
   },
   {
    "duration": 55,
    "start_time": "2024-07-30T17:48:53.395Z"
   },
   {
    "duration": 69,
    "start_time": "2024-07-30T17:49:18.034Z"
   },
   {
    "duration": 28,
    "start_time": "2024-07-30T17:51:43.614Z"
   },
   {
    "duration": 52,
    "start_time": "2024-07-30T18:09:03.761Z"
   },
   {
    "duration": 31,
    "start_time": "2024-07-30T18:09:46.032Z"
   },
   {
    "duration": 45,
    "start_time": "2024-07-30T18:10:00.513Z"
   },
   {
    "duration": 48,
    "start_time": "2024-07-30T18:12:18.163Z"
   },
   {
    "duration": 829,
    "start_time": "2024-07-30T18:17:11.522Z"
   },
   {
    "duration": 4,
    "start_time": "2024-07-30T18:17:28.492Z"
   },
   {
    "duration": 8,
    "start_time": "2024-07-30T18:17:38.664Z"
   },
   {
    "duration": 265,
    "start_time": "2024-07-30T18:18:09.370Z"
   },
   {
    "duration": 4,
    "start_time": "2024-07-30T18:23:26.209Z"
   },
   {
    "duration": 8,
    "start_time": "2024-07-30T18:23:34.738Z"
   },
   {
    "duration": 8,
    "start_time": "2024-07-30T18:24:00.602Z"
   },
   {
    "duration": 30,
    "start_time": "2024-07-30T18:26:07.925Z"
   },
   {
    "duration": 309,
    "start_time": "2024-07-31T07:26:48.955Z"
   },
   {
    "duration": 21,
    "start_time": "2024-07-31T07:27:10.673Z"
   },
   {
    "duration": 27,
    "start_time": "2024-07-31T07:29:09.559Z"
   },
   {
    "duration": 691,
    "start_time": "2024-07-31T07:29:17.646Z"
   },
   {
    "duration": 25,
    "start_time": "2024-07-31T07:29:18.709Z"
   },
   {
    "duration": 30,
    "start_time": "2024-07-31T07:29:23.015Z"
   },
   {
    "duration": 6,
    "start_time": "2024-07-31T07:29:25.941Z"
   },
   {
    "duration": 5,
    "start_time": "2024-07-31T07:29:29.517Z"
   },
   {
    "duration": 29,
    "start_time": "2024-07-31T07:30:25.161Z"
   },
   {
    "duration": 167,
    "start_time": "2024-07-31T16:39:01.868Z"
   },
   {
    "duration": 10,
    "start_time": "2024-07-31T16:39:02.393Z"
   },
   {
    "duration": 5,
    "start_time": "2024-07-31T16:39:03.032Z"
   },
   {
    "duration": 35,
    "start_time": "2024-07-31T16:39:07.461Z"
   },
   {
    "duration": 410,
    "start_time": "2024-07-31T16:44:05.903Z"
   },
   {
    "duration": 23,
    "start_time": "2024-07-31T16:44:33.363Z"
   },
   {
    "duration": 25,
    "start_time": "2024-07-31T16:44:42.522Z"
   },
   {
    "duration": 25,
    "start_time": "2024-07-31T16:49:25.924Z"
   },
   {
    "duration": 25,
    "start_time": "2024-07-31T16:49:39.519Z"
   },
   {
    "duration": 25,
    "start_time": "2024-07-31T16:53:29.978Z"
   },
   {
    "duration": 1414,
    "start_time": "2024-07-31T16:54:13.828Z"
   },
   {
    "duration": 1398,
    "start_time": "2024-07-31T16:54:18.184Z"
   },
   {
    "duration": 1398,
    "start_time": "2024-07-31T16:54:44.120Z"
   },
   {
    "duration": 3,
    "start_time": "2024-07-31T17:19:06.544Z"
   },
   {
    "duration": 162,
    "start_time": "2024-07-31T17:19:09.633Z"
   },
   {
    "duration": 15,
    "start_time": "2024-07-31T17:19:12.199Z"
   },
   {
    "duration": 31,
    "start_time": "2024-07-31T17:19:15.186Z"
   },
   {
    "duration": 151,
    "start_time": "2024-07-31T17:19:18.466Z"
   },
   {
    "duration": 9,
    "start_time": "2024-07-31T17:19:21.703Z"
   },
   {
    "duration": 6,
    "start_time": "2024-07-31T17:19:24.511Z"
   },
   {
    "duration": 28,
    "start_time": "2024-07-31T17:19:27.284Z"
   },
   {
    "duration": 9,
    "start_time": "2024-07-31T17:19:32.967Z"
   },
   {
    "duration": 4,
    "start_time": "2024-07-31T17:19:50.323Z"
   },
   {
    "duration": 16,
    "start_time": "2024-07-31T17:20:03.674Z"
   },
   {
    "duration": 38,
    "start_time": "2024-07-31T17:20:44.627Z"
   },
   {
    "duration": 5,
    "start_time": "2024-07-31T17:21:26.422Z"
   },
   {
    "duration": 24,
    "start_time": "2024-07-31T17:21:43.203Z"
   },
   {
    "duration": 18,
    "start_time": "2024-07-31T17:23:06.488Z"
   },
   {
    "duration": 26,
    "start_time": "2024-07-31T17:23:30.909Z"
   },
   {
    "duration": 18,
    "start_time": "2024-07-31T17:24:38.767Z"
   },
   {
    "duration": 26,
    "start_time": "2024-07-31T17:24:41.509Z"
   },
   {
    "duration": 77,
    "start_time": "2024-07-31T17:25:04.531Z"
   },
   {
    "duration": 85,
    "start_time": "2024-07-31T17:27:15.073Z"
   },
   {
    "duration": 78,
    "start_time": "2024-07-31T17:27:34.664Z"
   },
   {
    "duration": 75,
    "start_time": "2024-07-31T17:27:51.819Z"
   },
   {
    "duration": 71,
    "start_time": "2024-07-31T17:27:54.783Z"
   },
   {
    "duration": 290,
    "start_time": "2024-07-31T17:37:01.203Z"
   },
   {
    "duration": 33,
    "start_time": "2024-07-31T17:38:04.126Z"
   },
   {
    "duration": 77,
    "start_time": "2024-07-31T17:38:09.539Z"
   },
   {
    "duration": 82,
    "start_time": "2024-07-31T17:38:24.484Z"
   },
   {
    "duration": 23,
    "start_time": "2024-07-31T17:40:20.492Z"
   },
   {
    "duration": 19,
    "start_time": "2024-07-31T17:41:42.812Z"
   },
   {
    "duration": 47,
    "start_time": "2024-07-31T17:41:54.984Z"
   },
   {
    "duration": 54,
    "start_time": "2024-07-31T17:42:07.463Z"
   },
   {
    "duration": 4,
    "start_time": "2024-07-31T17:46:53.231Z"
   },
   {
    "duration": 11,
    "start_time": "2024-07-31T17:47:57.703Z"
   },
   {
    "duration": 54,
    "start_time": "2024-07-31T17:48:12.614Z"
   },
   {
    "duration": 4111,
    "start_time": "2024-07-31T18:25:37.493Z"
   },
   {
    "duration": 53,
    "start_time": "2024-07-31T18:25:43.247Z"
   },
   {
    "duration": 4139,
    "start_time": "2024-07-31T18:26:21.476Z"
   },
   {
    "duration": 1513,
    "start_time": "2024-07-31T18:28:21.927Z"
   },
   {
    "duration": 1483,
    "start_time": "2024-07-31T18:28:54.240Z"
   },
   {
    "duration": 1482,
    "start_time": "2024-07-31T18:29:11.107Z"
   },
   {
    "duration": 17,
    "start_time": "2024-07-31T18:31:49.662Z"
   },
   {
    "duration": 19,
    "start_time": "2024-07-31T18:34:16.656Z"
   },
   {
    "duration": 13,
    "start_time": "2024-07-31T18:35:07.887Z"
   },
   {
    "duration": 15,
    "start_time": "2024-07-31T18:35:18.461Z"
   },
   {
    "duration": 647,
    "start_time": "2024-08-02T17:16:57.318Z"
   },
   {
    "duration": 14,
    "start_time": "2024-08-02T17:16:58.209Z"
   },
   {
    "duration": 5,
    "start_time": "2024-08-02T17:17:03.692Z"
   },
   {
    "duration": 27,
    "start_time": "2024-08-02T17:17:06.019Z"
   },
   {
    "duration": 19,
    "start_time": "2024-08-02T17:17:08.070Z"
   },
   {
    "duration": 27,
    "start_time": "2024-08-02T17:17:10.312Z"
   },
   {
    "duration": 77,
    "start_time": "2024-08-02T17:17:12.169Z"
   },
   {
    "duration": 80,
    "start_time": "2024-08-02T17:17:13.196Z"
   },
   {
    "duration": 68,
    "start_time": "2024-08-02T17:17:14.461Z"
   },
   {
    "duration": 52,
    "start_time": "2024-08-02T17:17:16.340Z"
   },
   {
    "duration": 4,
    "start_time": "2024-08-02T17:17:19.213Z"
   },
   {
    "duration": 12,
    "start_time": "2024-08-02T17:17:20.599Z"
   },
   {
    "duration": 58,
    "start_time": "2024-08-02T17:17:22.495Z"
   },
   {
    "duration": 16,
    "start_time": "2024-08-02T17:17:27.658Z"
   },
   {
    "duration": 16,
    "start_time": "2024-08-02T17:17:58.843Z"
   },
   {
    "duration": 48,
    "start_time": "2024-08-02T17:23:12.336Z"
   },
   {
    "duration": 152,
    "start_time": "2024-08-02T17:37:13.971Z"
   },
   {
    "duration": 6,
    "start_time": "2024-08-02T17:37:28.841Z"
   },
   {
    "duration": 620,
    "start_time": "2024-08-03T07:04:13.572Z"
   },
   {
    "duration": 11,
    "start_time": "2024-08-03T07:04:15.579Z"
   },
   {
    "duration": 5,
    "start_time": "2024-08-03T07:04:17.382Z"
   },
   {
    "duration": 27,
    "start_time": "2024-08-03T07:04:19.071Z"
   },
   {
    "duration": 22,
    "start_time": "2024-08-03T07:04:20.674Z"
   },
   {
    "duration": 28,
    "start_time": "2024-08-03T07:04:21.829Z"
   },
   {
    "duration": 77,
    "start_time": "2024-08-03T07:04:23.240Z"
   },
   {
    "duration": 80,
    "start_time": "2024-08-03T07:04:24.220Z"
   },
   {
    "duration": 69,
    "start_time": "2024-08-03T07:04:24.869Z"
   },
   {
    "duration": 52,
    "start_time": "2024-08-03T07:04:26.436Z"
   },
   {
    "duration": 3,
    "start_time": "2024-08-03T07:04:27.651Z"
   },
   {
    "duration": 12,
    "start_time": "2024-08-03T07:04:28.716Z"
   },
   {
    "duration": 51,
    "start_time": "2024-08-03T07:04:29.600Z"
   },
   {
    "duration": 20,
    "start_time": "2024-08-03T07:04:33.077Z"
   },
   {
    "duration": 16,
    "start_time": "2024-08-03T07:04:34.476Z"
   },
   {
    "duration": 347,
    "start_time": "2024-08-03T07:19:38.628Z"
   },
   {
    "duration": 7,
    "start_time": "2024-08-03T07:20:27.398Z"
   },
   {
    "duration": 5,
    "start_time": "2024-08-03T07:20:36.632Z"
   },
   {
    "duration": 6,
    "start_time": "2024-08-03T07:21:15.716Z"
   },
   {
    "duration": 30,
    "start_time": "2024-08-03T07:26:59.089Z"
   },
   {
    "duration": 26,
    "start_time": "2024-08-03T07:28:36.009Z"
   },
   {
    "duration": 26,
    "start_time": "2024-08-03T07:29:06.060Z"
   },
   {
    "duration": 25,
    "start_time": "2024-08-03T07:31:14.211Z"
   },
   {
    "duration": 22,
    "start_time": "2024-08-03T07:34:11.876Z"
   },
   {
    "duration": 30,
    "start_time": "2024-08-03T07:34:25.805Z"
   },
   {
    "duration": 25,
    "start_time": "2024-08-03T07:35:19.764Z"
   },
   {
    "duration": 22,
    "start_time": "2024-08-03T07:35:35.894Z"
   },
   {
    "duration": 21,
    "start_time": "2024-08-03T07:37:06.585Z"
   },
   {
    "duration": 19,
    "start_time": "2024-08-03T07:37:33.659Z"
   },
   {
    "duration": 19,
    "start_time": "2024-08-03T07:37:56.661Z"
   },
   {
    "duration": 17,
    "start_time": "2024-08-03T07:38:25.302Z"
   },
   {
    "duration": 21,
    "start_time": "2024-08-03T07:38:49.210Z"
   },
   {
    "duration": 866,
    "start_time": "2024-08-03T07:48:38.956Z"
   },
   {
    "duration": 92,
    "start_time": "2024-08-03T07:52:41.896Z"
   },
   {
    "duration": 103,
    "start_time": "2024-08-03T07:53:12.829Z"
   },
   {
    "duration": 306,
    "start_time": "2024-08-03T07:53:34.116Z"
   },
   {
    "duration": 198,
    "start_time": "2024-08-03T07:54:22.749Z"
   },
   {
    "duration": 97,
    "start_time": "2024-08-03T07:58:33.246Z"
   },
   {
    "duration": 5,
    "start_time": "2024-08-03T07:58:45.296Z"
   },
   {
    "duration": 22,
    "start_time": "2024-08-03T07:58:46.418Z"
   },
   {
    "duration": 20,
    "start_time": "2024-08-03T07:58:47.102Z"
   },
   {
    "duration": 21,
    "start_time": "2024-08-03T07:58:47.700Z"
   },
   {
    "duration": 19,
    "start_time": "2024-08-03T07:58:48.245Z"
   },
   {
    "duration": 22,
    "start_time": "2024-08-03T07:58:48.761Z"
   },
   {
    "duration": 20,
    "start_time": "2024-08-03T07:58:49.338Z"
   },
   {
    "duration": 96,
    "start_time": "2024-08-03T07:58:51.414Z"
   },
   {
    "duration": 19,
    "start_time": "2024-08-03T09:01:17.826Z"
   },
   {
    "duration": 3,
    "start_time": "2024-08-03T09:01:22.424Z"
   },
   {
    "duration": 5,
    "start_time": "2024-08-03T09:01:32.745Z"
   },
   {
    "duration": 6,
    "start_time": "2024-08-03T09:01:45.474Z"
   },
   {
    "duration": 4,
    "start_time": "2024-08-03T09:01:49.203Z"
   },
   {
    "duration": 3,
    "start_time": "2024-08-03T09:01:58.577Z"
   },
   {
    "duration": 6,
    "start_time": "2024-08-03T09:02:04.717Z"
   },
   {
    "duration": 5,
    "start_time": "2024-08-03T09:02:11.922Z"
   },
   {
    "duration": 6,
    "start_time": "2024-08-03T09:02:19.016Z"
   },
   {
    "duration": 5,
    "start_time": "2024-08-03T09:02:24.395Z"
   },
   {
    "duration": 6,
    "start_time": "2024-08-03T09:02:27.894Z"
   },
   {
    "duration": 440,
    "start_time": "2024-08-03T09:02:31.649Z"
   },
   {
    "duration": 28,
    "start_time": "2024-08-03T09:03:45.433Z"
   },
   {
    "duration": 25,
    "start_time": "2024-08-03T09:04:13.738Z"
   },
   {
    "duration": 16,
    "start_time": "2024-08-03T10:55:47.756Z"
   },
   {
    "duration": 3,
    "start_time": "2024-08-03T10:55:51.150Z"
   },
   {
    "duration": 29,
    "start_time": "2024-08-03T10:57:17.546Z"
   },
   {
    "duration": 3,
    "start_time": "2024-08-03T10:57:28.262Z"
   },
   {
    "duration": 22,
    "start_time": "2024-08-03T11:12:58.532Z"
   },
   {
    "duration": 15,
    "start_time": "2024-08-03T11:13:09.030Z"
   },
   {
    "duration": 18,
    "start_time": "2024-08-03T11:13:21.746Z"
   },
   {
    "duration": 19,
    "start_time": "2024-08-03T11:13:27.828Z"
   },
   {
    "duration": 25,
    "start_time": "2024-08-03T11:13:38.234Z"
   },
   {
    "duration": 6,
    "start_time": "2024-08-03T11:30:36.620Z"
   },
   {
    "duration": 32,
    "start_time": "2024-08-03T11:32:28.890Z"
   },
   {
    "duration": 6,
    "start_time": "2024-08-03T11:33:40.509Z"
   },
   {
    "duration": 43,
    "start_time": "2024-08-03T11:33:41.993Z"
   },
   {
    "duration": 36,
    "start_time": "2024-08-03T11:34:29.053Z"
   },
   {
    "duration": 22,
    "start_time": "2024-08-03T11:35:06.286Z"
   },
   {
    "duration": 21,
    "start_time": "2024-08-03T11:35:19.611Z"
   },
   {
    "duration": 27,
    "start_time": "2024-08-03T11:35:25.094Z"
   },
   {
    "duration": 22,
    "start_time": "2024-08-03T11:35:25.981Z"
   },
   {
    "duration": 3,
    "start_time": "2024-08-03T11:35:26.069Z"
   },
   {
    "duration": 31,
    "start_time": "2024-08-03T11:35:59.706Z"
   },
   {
    "duration": 22,
    "start_time": "2024-08-03T11:36:32.957Z"
   },
   {
    "duration": 44,
    "start_time": "2024-08-03T12:29:18.542Z"
   },
   {
    "duration": 35,
    "start_time": "2024-08-03T12:29:34.061Z"
   },
   {
    "duration": 27,
    "start_time": "2024-08-03T12:30:49.150Z"
   },
   {
    "duration": 12,
    "start_time": "2024-08-03T12:31:00.720Z"
   },
   {
    "duration": 18,
    "start_time": "2024-08-03T12:36:27.771Z"
   },
   {
    "duration": 455,
    "start_time": "2024-08-03T15:29:57.451Z"
   },
   {
    "duration": 182,
    "start_time": "2024-08-03T15:29:57.910Z"
   },
   {
    "duration": 22,
    "start_time": "2024-08-03T15:29:58.095Z"
   },
   {
    "duration": 36,
    "start_time": "2024-08-03T15:29:58.119Z"
   },
   {
    "duration": 194,
    "start_time": "2024-08-03T15:29:58.159Z"
   },
   {
    "duration": 12,
    "start_time": "2024-08-03T15:29:58.356Z"
   },
   {
    "duration": 32,
    "start_time": "2024-08-03T15:29:58.370Z"
   },
   {
    "duration": 29,
    "start_time": "2024-08-03T15:29:58.405Z"
   },
   {
    "duration": 19,
    "start_time": "2024-08-03T15:29:58.437Z"
   },
   {
    "duration": 61,
    "start_time": "2024-08-03T15:29:58.459Z"
   },
   {
    "duration": 91,
    "start_time": "2024-08-03T15:29:58.525Z"
   },
   {
    "duration": 101,
    "start_time": "2024-08-03T15:29:58.619Z"
   },
   {
    "duration": 89,
    "start_time": "2024-08-03T15:29:58.723Z"
   },
   {
    "duration": 54,
    "start_time": "2024-08-03T15:29:58.819Z"
   },
   {
    "duration": 5,
    "start_time": "2024-08-03T15:29:58.876Z"
   },
   {
    "duration": 14,
    "start_time": "2024-08-03T15:29:58.903Z"
   },
   {
    "duration": 82,
    "start_time": "2024-08-03T15:29:58.920Z"
   },
   {
    "duration": 19,
    "start_time": "2024-08-03T15:29:59.005Z"
   },
   {
    "duration": 18,
    "start_time": "2024-08-03T15:29:59.027Z"
   },
   {
    "duration": 6,
    "start_time": "2024-08-03T15:29:59.048Z"
   },
   {
    "duration": 68,
    "start_time": "2024-08-03T15:29:59.057Z"
   },
   {
    "duration": 21,
    "start_time": "2024-08-03T15:29:59.129Z"
   },
   {
    "duration": 59,
    "start_time": "2024-08-03T15:29:59.153Z"
   },
   {
    "duration": 24,
    "start_time": "2024-08-03T15:29:59.215Z"
   },
   {
    "duration": 26,
    "start_time": "2024-08-03T15:29:59.242Z"
   },
   {
    "duration": 57,
    "start_time": "2024-08-03T15:29:59.271Z"
   },
   {
    "duration": 124,
    "start_time": "2024-08-03T15:29:59.331Z"
   },
   {
    "duration": 47,
    "start_time": "2024-08-03T15:29:59.459Z"
   },
   {
    "duration": 28,
    "start_time": "2024-08-03T15:29:59.508Z"
   },
   {
    "duration": 6,
    "start_time": "2024-08-03T15:29:59.540Z"
   },
   {
    "duration": 70,
    "start_time": "2024-08-03T15:29:59.550Z"
   },
   {
    "duration": 23,
    "start_time": "2024-08-03T15:29:59.624Z"
   },
   {
    "duration": 62,
    "start_time": "2024-08-03T15:29:59.651Z"
   },
   {
    "duration": 28,
    "start_time": "2024-08-03T15:29:59.716Z"
   },
   {
    "duration": 58,
    "start_time": "2024-08-03T15:29:59.748Z"
   },
   {
    "duration": 13,
    "start_time": "2024-08-03T15:29:59.809Z"
   },
   {
    "duration": 20,
    "start_time": "2024-08-03T15:29:59.826Z"
   },
   {
    "duration": 168,
    "start_time": "2024-08-03T15:29:59.849Z"
   },
   {
    "duration": 316,
    "start_time": "2024-08-04T14:16:26.236Z"
   },
   {
    "duration": 437,
    "start_time": "2024-08-04T14:16:36.703Z"
   },
   {
    "duration": 183,
    "start_time": "2024-08-04T14:16:37.144Z"
   },
   {
    "duration": 22,
    "start_time": "2024-08-04T14:16:37.329Z"
   },
   {
    "duration": 37,
    "start_time": "2024-08-04T14:16:37.354Z"
   },
   {
    "duration": 5,
    "start_time": "2024-08-04T14:16:37.394Z"
   },
   {
    "duration": 10,
    "start_time": "2024-08-04T14:16:37.434Z"
   },
   {
    "duration": 6,
    "start_time": "2024-08-04T14:16:37.448Z"
   },
   {
    "duration": 38,
    "start_time": "2024-08-04T14:16:37.458Z"
   },
   {
    "duration": 46,
    "start_time": "2024-08-04T14:16:37.499Z"
   },
   {
    "duration": 28,
    "start_time": "2024-08-04T14:16:37.550Z"
   },
   {
    "duration": 105,
    "start_time": "2024-08-04T14:16:37.581Z"
   },
   {
    "duration": 89,
    "start_time": "2024-08-04T14:16:37.692Z"
   },
   {
    "duration": 81,
    "start_time": "2024-08-04T14:16:37.783Z"
   },
   {
    "duration": 53,
    "start_time": "2024-08-04T14:16:37.867Z"
   },
   {
    "duration": 4,
    "start_time": "2024-08-04T14:16:37.935Z"
   },
   {
    "duration": 12,
    "start_time": "2024-08-04T14:16:37.942Z"
   },
   {
    "duration": 77,
    "start_time": "2024-08-04T14:16:37.958Z"
   },
   {
    "duration": 16,
    "start_time": "2024-08-04T14:16:38.038Z"
   },
   {
    "duration": 17,
    "start_time": "2024-08-04T14:16:38.058Z"
   },
   {
    "duration": 6,
    "start_time": "2024-08-04T14:16:38.077Z"
   },
   {
    "duration": 61,
    "start_time": "2024-08-04T14:16:38.086Z"
   },
   {
    "duration": 22,
    "start_time": "2024-08-04T14:16:38.150Z"
   },
   {
    "duration": 22,
    "start_time": "2024-08-04T14:16:38.175Z"
   },
   {
    "duration": 20,
    "start_time": "2024-08-04T14:16:38.235Z"
   },
   {
    "duration": 23,
    "start_time": "2024-08-04T14:16:38.259Z"
   },
   {
    "duration": 54,
    "start_time": "2024-08-04T14:16:38.285Z"
   },
   {
    "duration": 121,
    "start_time": "2024-08-04T14:16:38.341Z"
   },
   {
    "duration": 27,
    "start_time": "2024-08-04T14:16:38.469Z"
   },
   {
    "duration": 46,
    "start_time": "2024-08-04T14:16:38.499Z"
   },
   {
    "duration": 7,
    "start_time": "2024-08-04T14:16:38.547Z"
   },
   {
    "duration": 30,
    "start_time": "2024-08-04T14:16:38.558Z"
   },
   {
    "duration": 50,
    "start_time": "2024-08-04T14:16:38.591Z"
   },
   {
    "duration": 33,
    "start_time": "2024-08-04T14:16:38.644Z"
   },
   {
    "duration": 55,
    "start_time": "2024-08-04T14:16:38.679Z"
   },
   {
    "duration": 27,
    "start_time": "2024-08-04T14:16:38.737Z"
   },
   {
    "duration": 12,
    "start_time": "2024-08-04T14:16:38.767Z"
   },
   {
    "duration": 19,
    "start_time": "2024-08-04T14:16:38.782Z"
   },
   {
    "duration": 139,
    "start_time": "2024-08-04T14:16:38.836Z"
   },
   {
    "duration": 116,
    "start_time": "2024-08-04T14:17:44.239Z"
   },
   {
    "duration": 25,
    "start_time": "2024-08-04T14:18:17.825Z"
   },
   {
    "duration": 24,
    "start_time": "2024-08-04T14:20:03.878Z"
   },
   {
    "duration": 6,
    "start_time": "2024-08-04T14:44:34.555Z"
   },
   {
    "duration": 251,
    "start_time": "2024-08-04T14:44:38.261Z"
   },
   {
    "duration": 6,
    "start_time": "2024-08-04T14:45:08.768Z"
   },
   {
    "duration": 31,
    "start_time": "2024-08-04T14:45:11.245Z"
   },
   {
    "duration": 7,
    "start_time": "2024-08-04T14:45:50.378Z"
   },
   {
    "duration": 24,
    "start_time": "2024-08-04T14:45:52.924Z"
   },
   {
    "duration": 17,
    "start_time": "2024-08-04T14:46:00.985Z"
   },
   {
    "duration": 28,
    "start_time": "2024-08-04T14:46:01.986Z"
   },
   {
    "duration": 18,
    "start_time": "2024-08-04T14:46:02.676Z"
   },
   {
    "duration": 7,
    "start_time": "2024-08-04T14:47:10.588Z"
   },
   {
    "duration": 11,
    "start_time": "2024-08-04T14:47:27.195Z"
   },
   {
    "duration": 7,
    "start_time": "2024-08-04T14:47:41.868Z"
   },
   {
    "duration": 481,
    "start_time": "2024-08-04T14:47:57.822Z"
   },
   {
    "duration": 163,
    "start_time": "2024-08-04T14:47:58.306Z"
   },
   {
    "duration": 21,
    "start_time": "2024-08-04T14:47:58.472Z"
   },
   {
    "duration": 57,
    "start_time": "2024-08-04T14:47:58.496Z"
   },
   {
    "duration": 5,
    "start_time": "2024-08-04T14:47:58.557Z"
   },
   {
    "duration": 9,
    "start_time": "2024-08-04T14:47:58.566Z"
   },
   {
    "duration": 7,
    "start_time": "2024-08-04T14:47:58.577Z"
   },
   {
    "duration": 60,
    "start_time": "2024-08-04T14:47:58.586Z"
   },
   {
    "duration": 20,
    "start_time": "2024-08-04T14:47:58.648Z"
   },
   {
    "duration": 26,
    "start_time": "2024-08-04T14:47:58.671Z"
   },
   {
    "duration": 107,
    "start_time": "2024-08-04T14:47:58.700Z"
   },
   {
    "duration": 95,
    "start_time": "2024-08-04T14:47:58.810Z"
   },
   {
    "duration": 83,
    "start_time": "2024-08-04T14:47:58.907Z"
   },
   {
    "duration": 70,
    "start_time": "2024-08-04T14:47:58.999Z"
   },
   {
    "duration": 6,
    "start_time": "2024-08-04T14:47:59.072Z"
   },
   {
    "duration": 13,
    "start_time": "2024-08-04T14:47:59.083Z"
   },
   {
    "duration": 76,
    "start_time": "2024-08-04T14:47:59.100Z"
   },
   {
    "duration": 17,
    "start_time": "2024-08-04T14:47:59.179Z"
   },
   {
    "duration": 41,
    "start_time": "2024-08-04T14:47:59.199Z"
   },
   {
    "duration": 5,
    "start_time": "2024-08-04T14:47:59.243Z"
   },
   {
    "duration": 23,
    "start_time": "2024-08-04T14:47:59.251Z"
   },
   {
    "duration": 61,
    "start_time": "2024-08-04T14:47:59.276Z"
   },
   {
    "duration": 20,
    "start_time": "2024-08-04T14:47:59.340Z"
   },
   {
    "duration": 19,
    "start_time": "2024-08-04T14:47:59.363Z"
   },
   {
    "duration": 51,
    "start_time": "2024-08-04T14:47:59.386Z"
   },
   {
    "duration": 20,
    "start_time": "2024-08-04T14:47:59.440Z"
   },
   {
    "duration": 145,
    "start_time": "2024-08-04T14:47:59.463Z"
   },
   {
    "duration": 32,
    "start_time": "2024-08-04T14:47:59.611Z"
   },
   {
    "duration": 26,
    "start_time": "2024-08-04T14:47:59.646Z"
   },
   {
    "duration": 6,
    "start_time": "2024-08-04T14:47:59.675Z"
   },
   {
    "duration": 56,
    "start_time": "2024-08-04T14:47:59.685Z"
   },
   {
    "duration": 17,
    "start_time": "2024-08-04T14:47:59.743Z"
   },
   {
    "duration": 26,
    "start_time": "2024-08-04T14:47:59.764Z"
   },
   {
    "duration": 51,
    "start_time": "2024-08-04T14:47:59.793Z"
   },
   {
    "duration": 26,
    "start_time": "2024-08-04T14:47:59.846Z"
   },
   {
    "duration": 7,
    "start_time": "2024-08-04T14:47:59.875Z"
   },
   {
    "duration": 51,
    "start_time": "2024-08-04T14:47:59.885Z"
   },
   {
    "duration": 6,
    "start_time": "2024-08-04T14:47:59.940Z"
   },
   {
    "duration": 474,
    "start_time": "2024-08-04T14:54:24.244Z"
   },
   {
    "duration": 180,
    "start_time": "2024-08-04T14:54:24.722Z"
   },
   {
    "duration": 29,
    "start_time": "2024-08-04T14:54:24.905Z"
   },
   {
    "duration": 33,
    "start_time": "2024-08-04T14:54:24.937Z"
   },
   {
    "duration": 6,
    "start_time": "2024-08-04T14:54:24.974Z"
   },
   {
    "duration": 9,
    "start_time": "2024-08-04T14:54:24.983Z"
   },
   {
    "duration": 6,
    "start_time": "2024-08-04T14:54:25.030Z"
   },
   {
    "duration": 28,
    "start_time": "2024-08-04T14:54:25.039Z"
   },
   {
    "duration": 18,
    "start_time": "2024-08-04T14:54:25.070Z"
   },
   {
    "duration": 63,
    "start_time": "2024-08-04T14:54:25.091Z"
   },
   {
    "duration": 90,
    "start_time": "2024-08-04T14:54:25.157Z"
   },
   {
    "duration": 92,
    "start_time": "2024-08-04T14:54:25.250Z"
   },
   {
    "duration": 70,
    "start_time": "2024-08-04T14:54:25.345Z"
   },
   {
    "duration": 53,
    "start_time": "2024-08-04T14:54:25.434Z"
   },
   {
    "duration": 4,
    "start_time": "2024-08-04T14:54:25.489Z"
   },
   {
    "duration": 37,
    "start_time": "2024-08-04T14:54:25.496Z"
   },
   {
    "duration": 52,
    "start_time": "2024-08-04T14:54:25.535Z"
   },
   {
    "duration": 41,
    "start_time": "2024-08-04T14:54:25.590Z"
   },
   {
    "duration": 16,
    "start_time": "2024-08-04T14:54:25.635Z"
   },
   {
    "duration": 5,
    "start_time": "2024-08-04T14:54:25.654Z"
   },
   {
    "duration": 23,
    "start_time": "2024-08-04T14:54:25.663Z"
   },
   {
    "duration": 57,
    "start_time": "2024-08-04T14:54:25.688Z"
   },
   {
    "duration": 20,
    "start_time": "2024-08-04T14:54:25.748Z"
   },
   {
    "duration": 19,
    "start_time": "2024-08-04T14:54:25.771Z"
   },
   {
    "duration": 61,
    "start_time": "2024-08-04T14:54:25.792Z"
   },
   {
    "duration": 20,
    "start_time": "2024-08-04T14:54:25.856Z"
   },
   {
    "duration": 129,
    "start_time": "2024-08-04T14:54:25.879Z"
   },
   {
    "duration": 35,
    "start_time": "2024-08-04T14:54:26.011Z"
   },
   {
    "duration": 29,
    "start_time": "2024-08-04T14:54:26.050Z"
   },
   {
    "duration": 8,
    "start_time": "2024-08-04T14:54:26.082Z"
   },
   {
    "duration": 58,
    "start_time": "2024-08-04T14:54:26.092Z"
   },
   {
    "duration": 17,
    "start_time": "2024-08-04T14:54:26.153Z"
   },
   {
    "duration": 27,
    "start_time": "2024-08-04T14:54:26.173Z"
   },
   {
    "duration": 20,
    "start_time": "2024-08-04T14:54:26.232Z"
   },
   {
    "duration": 27,
    "start_time": "2024-08-04T14:54:26.255Z"
   },
   {
    "duration": 7,
    "start_time": "2024-08-04T14:54:26.285Z"
   },
   {
    "duration": 17,
    "start_time": "2024-08-04T14:54:26.332Z"
   },
   {
    "duration": 6,
    "start_time": "2024-08-04T14:54:26.352Z"
   }
  ],
  "colab": {
   "collapsed_sections": [
    "E0vqbgi9ay0H",
    "VUC88oWjTJw2",
    "atZAxtq4_Zcu"
   ],
   "name": "EmptyFinalProject.ipynb\"",
   "provenance": []
  },
  "kernelspec": {
   "display_name": "Python 3 (ipykernel)",
   "language": "python",
   "name": "python3"
  },
  "language_info": {
   "codemirror_mode": {
    "name": "ipython",
    "version": 3
   },
   "file_extension": ".py",
   "mimetype": "text/x-python",
   "name": "python",
   "nbconvert_exporter": "python",
   "pygments_lexer": "ipython3",
   "version": "3.9.19"
  },
  "toc": {
   "base_numbering": 1,
   "nav_menu": {},
   "number_sections": true,
   "sideBar": true,
   "skip_h1_title": true,
   "title_cell": "Table of Contents",
   "title_sidebar": "Contents",
   "toc_cell": false,
   "toc_position": {},
   "toc_section_display": true,
   "toc_window_display": false
  }
 },
 "nbformat": 4,
 "nbformat_minor": 4
}
